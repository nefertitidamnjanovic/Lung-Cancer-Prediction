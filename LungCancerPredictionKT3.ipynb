{
  "nbformat": 4,
  "nbformat_minor": 0,
  "metadata": {
    "colab": {
      "provenance": []
    },
    "kernelspec": {
      "name": "python3",
      "display_name": "Python 3"
    },
    "language_info": {
      "name": "python"
    }
  },
  "cells": [
    {
      "cell_type": "code",
      "execution_count": null,
      "metadata": {
        "id": "EoUKoeaRervd"
      },
      "outputs": [],
      "source": [
        "import pandas as pd\n",
        "import matplotlib.pyplot as plt\n",
        "import seaborn as sns\n",
        "from sklearn.model_selection import train_test_split\n",
        "from sklearn.preprocessing import StandardScaler\n",
        "from sklearn.neighbors import KNeighborsClassifier\n",
        "from sklearn.naive_bayes import GaussianNB\n",
        "from sklearn.linear_model import LogisticRegression\n",
        "from sklearn.metrics import confusion_matrix, accuracy_score, precision_score, recall_score, f1_score\n",
        "from sklearn.model_selection import GridSearchCV\n"
      ]
    },
    {
      "cell_type": "markdown",
      "source": [
        "Učitavanje podataka"
      ],
      "metadata": {
        "id": "xqumIkn4LJkb"
      }
    },
    {
      "cell_type": "code",
      "source": [
        "lung_data = pd.read_csv(\"lung_cancer_ds.csv\")"
      ],
      "metadata": {
        "id": "T-10rgPofCu7"
      },
      "execution_count": null,
      "outputs": []
    },
    {
      "cell_type": "markdown",
      "source": [
        "Ispis tabele pre uklanjanja kolona"
      ],
      "metadata": {
        "id": "dCngM7MiLLu4"
      }
    },
    {
      "cell_type": "code",
      "source": [
        "lung_data"
      ],
      "metadata": {
        "colab": {
          "base_uri": "https://localhost:8080/",
          "height": 496
        },
        "id": "-TPmcQOCfDRd",
        "outputId": "58daf880-4f2c-4862-f847-05edeb124633"
      },
      "execution_count": null,
      "outputs": [
        {
          "output_type": "execute_result",
          "data": {
            "text/plain": [
              "     index Patient Id  Age  Gender  Air Pollution  Alcohol use  Dust Allergy  \\\n",
              "0        0         P1   33       1              2            4             5   \n",
              "1        1        P10   17       1              3            1             5   \n",
              "2        2       P100   35       1              4            5             6   \n",
              "3        3      P1000   37       1              7            7             7   \n",
              "4        4       P101   46       1              6            8             7   \n",
              "..     ...        ...  ...     ...            ...          ...           ...   \n",
              "995    995       P995   44       1              6            7             7   \n",
              "996    996       P996   37       2              6            8             7   \n",
              "997    997       P997   25       2              4            5             6   \n",
              "998    998       P998   18       2              6            8             7   \n",
              "999    999       P999   47       1              6            5             6   \n",
              "\n",
              "     OccuPational Hazards  Genetic Risk  chronic Lung Disease  ...  Fatigue  \\\n",
              "0                       4             3                     2  ...        3   \n",
              "1                       3             4                     2  ...        1   \n",
              "2                       5             5                     4  ...        8   \n",
              "3                       7             6                     7  ...        4   \n",
              "4                       7             7                     6  ...        3   \n",
              "..                    ...           ...                   ...  ...      ...   \n",
              "995                     7             7                     6  ...        5   \n",
              "996                     7             7                     6  ...        9   \n",
              "997                     5             5                     4  ...        8   \n",
              "998                     7             7                     6  ...        3   \n",
              "999                     5             5                     4  ...        8   \n",
              "\n",
              "     Weight Loss  Shortness of Breath  Wheezing  Swallowing Difficulty  \\\n",
              "0              4                    2         2                      3   \n",
              "1              3                    7         8                      6   \n",
              "2              7                    9         2                      1   \n",
              "3              2                    3         1                      4   \n",
              "4              2                    4         1                      4   \n",
              "..           ...                  ...       ...                    ...   \n",
              "995            3                    2         7                      8   \n",
              "996            6                    5         7                      2   \n",
              "997            7                    9         2                      1   \n",
              "998            2                    4         1                      4   \n",
              "999            7                    9         2                      1   \n",
              "\n",
              "     Clubbing of Finger Nails  Frequent Cold  Dry Cough  Snoring   Level  \n",
              "0                           1              2          3        4     Low  \n",
              "1                           2              1          7        2  Medium  \n",
              "2                           4              6          7        2    High  \n",
              "3                           5              6          7        5    High  \n",
              "4                           2              4          2        3    High  \n",
              "..                        ...            ...        ...      ...     ...  \n",
              "995                         2              4          5        3    High  \n",
              "996                         4              3          1        4    High  \n",
              "997                         4              6          7        2    High  \n",
              "998                         2              4          2        3    High  \n",
              "999                         4              6          7        2    High  \n",
              "\n",
              "[1000 rows x 26 columns]"
            ],
            "text/html": [
              "\n",
              "  <div id=\"df-8c89c73f-1d6f-4afd-bca1-f96641bba4d6\" class=\"colab-df-container\">\n",
              "    <div>\n",
              "<style scoped>\n",
              "    .dataframe tbody tr th:only-of-type {\n",
              "        vertical-align: middle;\n",
              "    }\n",
              "\n",
              "    .dataframe tbody tr th {\n",
              "        vertical-align: top;\n",
              "    }\n",
              "\n",
              "    .dataframe thead th {\n",
              "        text-align: right;\n",
              "    }\n",
              "</style>\n",
              "<table border=\"1\" class=\"dataframe\">\n",
              "  <thead>\n",
              "    <tr style=\"text-align: right;\">\n",
              "      <th></th>\n",
              "      <th>index</th>\n",
              "      <th>Patient Id</th>\n",
              "      <th>Age</th>\n",
              "      <th>Gender</th>\n",
              "      <th>Air Pollution</th>\n",
              "      <th>Alcohol use</th>\n",
              "      <th>Dust Allergy</th>\n",
              "      <th>OccuPational Hazards</th>\n",
              "      <th>Genetic Risk</th>\n",
              "      <th>chronic Lung Disease</th>\n",
              "      <th>...</th>\n",
              "      <th>Fatigue</th>\n",
              "      <th>Weight Loss</th>\n",
              "      <th>Shortness of Breath</th>\n",
              "      <th>Wheezing</th>\n",
              "      <th>Swallowing Difficulty</th>\n",
              "      <th>Clubbing of Finger Nails</th>\n",
              "      <th>Frequent Cold</th>\n",
              "      <th>Dry Cough</th>\n",
              "      <th>Snoring</th>\n",
              "      <th>Level</th>\n",
              "    </tr>\n",
              "  </thead>\n",
              "  <tbody>\n",
              "    <tr>\n",
              "      <th>0</th>\n",
              "      <td>0</td>\n",
              "      <td>P1</td>\n",
              "      <td>33</td>\n",
              "      <td>1</td>\n",
              "      <td>2</td>\n",
              "      <td>4</td>\n",
              "      <td>5</td>\n",
              "      <td>4</td>\n",
              "      <td>3</td>\n",
              "      <td>2</td>\n",
              "      <td>...</td>\n",
              "      <td>3</td>\n",
              "      <td>4</td>\n",
              "      <td>2</td>\n",
              "      <td>2</td>\n",
              "      <td>3</td>\n",
              "      <td>1</td>\n",
              "      <td>2</td>\n",
              "      <td>3</td>\n",
              "      <td>4</td>\n",
              "      <td>Low</td>\n",
              "    </tr>\n",
              "    <tr>\n",
              "      <th>1</th>\n",
              "      <td>1</td>\n",
              "      <td>P10</td>\n",
              "      <td>17</td>\n",
              "      <td>1</td>\n",
              "      <td>3</td>\n",
              "      <td>1</td>\n",
              "      <td>5</td>\n",
              "      <td>3</td>\n",
              "      <td>4</td>\n",
              "      <td>2</td>\n",
              "      <td>...</td>\n",
              "      <td>1</td>\n",
              "      <td>3</td>\n",
              "      <td>7</td>\n",
              "      <td>8</td>\n",
              "      <td>6</td>\n",
              "      <td>2</td>\n",
              "      <td>1</td>\n",
              "      <td>7</td>\n",
              "      <td>2</td>\n",
              "      <td>Medium</td>\n",
              "    </tr>\n",
              "    <tr>\n",
              "      <th>2</th>\n",
              "      <td>2</td>\n",
              "      <td>P100</td>\n",
              "      <td>35</td>\n",
              "      <td>1</td>\n",
              "      <td>4</td>\n",
              "      <td>5</td>\n",
              "      <td>6</td>\n",
              "      <td>5</td>\n",
              "      <td>5</td>\n",
              "      <td>4</td>\n",
              "      <td>...</td>\n",
              "      <td>8</td>\n",
              "      <td>7</td>\n",
              "      <td>9</td>\n",
              "      <td>2</td>\n",
              "      <td>1</td>\n",
              "      <td>4</td>\n",
              "      <td>6</td>\n",
              "      <td>7</td>\n",
              "      <td>2</td>\n",
              "      <td>High</td>\n",
              "    </tr>\n",
              "    <tr>\n",
              "      <th>3</th>\n",
              "      <td>3</td>\n",
              "      <td>P1000</td>\n",
              "      <td>37</td>\n",
              "      <td>1</td>\n",
              "      <td>7</td>\n",
              "      <td>7</td>\n",
              "      <td>7</td>\n",
              "      <td>7</td>\n",
              "      <td>6</td>\n",
              "      <td>7</td>\n",
              "      <td>...</td>\n",
              "      <td>4</td>\n",
              "      <td>2</td>\n",
              "      <td>3</td>\n",
              "      <td>1</td>\n",
              "      <td>4</td>\n",
              "      <td>5</td>\n",
              "      <td>6</td>\n",
              "      <td>7</td>\n",
              "      <td>5</td>\n",
              "      <td>High</td>\n",
              "    </tr>\n",
              "    <tr>\n",
              "      <th>4</th>\n",
              "      <td>4</td>\n",
              "      <td>P101</td>\n",
              "      <td>46</td>\n",
              "      <td>1</td>\n",
              "      <td>6</td>\n",
              "      <td>8</td>\n",
              "      <td>7</td>\n",
              "      <td>7</td>\n",
              "      <td>7</td>\n",
              "      <td>6</td>\n",
              "      <td>...</td>\n",
              "      <td>3</td>\n",
              "      <td>2</td>\n",
              "      <td>4</td>\n",
              "      <td>1</td>\n",
              "      <td>4</td>\n",
              "      <td>2</td>\n",
              "      <td>4</td>\n",
              "      <td>2</td>\n",
              "      <td>3</td>\n",
              "      <td>High</td>\n",
              "    </tr>\n",
              "    <tr>\n",
              "      <th>...</th>\n",
              "      <td>...</td>\n",
              "      <td>...</td>\n",
              "      <td>...</td>\n",
              "      <td>...</td>\n",
              "      <td>...</td>\n",
              "      <td>...</td>\n",
              "      <td>...</td>\n",
              "      <td>...</td>\n",
              "      <td>...</td>\n",
              "      <td>...</td>\n",
              "      <td>...</td>\n",
              "      <td>...</td>\n",
              "      <td>...</td>\n",
              "      <td>...</td>\n",
              "      <td>...</td>\n",
              "      <td>...</td>\n",
              "      <td>...</td>\n",
              "      <td>...</td>\n",
              "      <td>...</td>\n",
              "      <td>...</td>\n",
              "      <td>...</td>\n",
              "    </tr>\n",
              "    <tr>\n",
              "      <th>995</th>\n",
              "      <td>995</td>\n",
              "      <td>P995</td>\n",
              "      <td>44</td>\n",
              "      <td>1</td>\n",
              "      <td>6</td>\n",
              "      <td>7</td>\n",
              "      <td>7</td>\n",
              "      <td>7</td>\n",
              "      <td>7</td>\n",
              "      <td>6</td>\n",
              "      <td>...</td>\n",
              "      <td>5</td>\n",
              "      <td>3</td>\n",
              "      <td>2</td>\n",
              "      <td>7</td>\n",
              "      <td>8</td>\n",
              "      <td>2</td>\n",
              "      <td>4</td>\n",
              "      <td>5</td>\n",
              "      <td>3</td>\n",
              "      <td>High</td>\n",
              "    </tr>\n",
              "    <tr>\n",
              "      <th>996</th>\n",
              "      <td>996</td>\n",
              "      <td>P996</td>\n",
              "      <td>37</td>\n",
              "      <td>2</td>\n",
              "      <td>6</td>\n",
              "      <td>8</td>\n",
              "      <td>7</td>\n",
              "      <td>7</td>\n",
              "      <td>7</td>\n",
              "      <td>6</td>\n",
              "      <td>...</td>\n",
              "      <td>9</td>\n",
              "      <td>6</td>\n",
              "      <td>5</td>\n",
              "      <td>7</td>\n",
              "      <td>2</td>\n",
              "      <td>4</td>\n",
              "      <td>3</td>\n",
              "      <td>1</td>\n",
              "      <td>4</td>\n",
              "      <td>High</td>\n",
              "    </tr>\n",
              "    <tr>\n",
              "      <th>997</th>\n",
              "      <td>997</td>\n",
              "      <td>P997</td>\n",
              "      <td>25</td>\n",
              "      <td>2</td>\n",
              "      <td>4</td>\n",
              "      <td>5</td>\n",
              "      <td>6</td>\n",
              "      <td>5</td>\n",
              "      <td>5</td>\n",
              "      <td>4</td>\n",
              "      <td>...</td>\n",
              "      <td>8</td>\n",
              "      <td>7</td>\n",
              "      <td>9</td>\n",
              "      <td>2</td>\n",
              "      <td>1</td>\n",
              "      <td>4</td>\n",
              "      <td>6</td>\n",
              "      <td>7</td>\n",
              "      <td>2</td>\n",
              "      <td>High</td>\n",
              "    </tr>\n",
              "    <tr>\n",
              "      <th>998</th>\n",
              "      <td>998</td>\n",
              "      <td>P998</td>\n",
              "      <td>18</td>\n",
              "      <td>2</td>\n",
              "      <td>6</td>\n",
              "      <td>8</td>\n",
              "      <td>7</td>\n",
              "      <td>7</td>\n",
              "      <td>7</td>\n",
              "      <td>6</td>\n",
              "      <td>...</td>\n",
              "      <td>3</td>\n",
              "      <td>2</td>\n",
              "      <td>4</td>\n",
              "      <td>1</td>\n",
              "      <td>4</td>\n",
              "      <td>2</td>\n",
              "      <td>4</td>\n",
              "      <td>2</td>\n",
              "      <td>3</td>\n",
              "      <td>High</td>\n",
              "    </tr>\n",
              "    <tr>\n",
              "      <th>999</th>\n",
              "      <td>999</td>\n",
              "      <td>P999</td>\n",
              "      <td>47</td>\n",
              "      <td>1</td>\n",
              "      <td>6</td>\n",
              "      <td>5</td>\n",
              "      <td>6</td>\n",
              "      <td>5</td>\n",
              "      <td>5</td>\n",
              "      <td>4</td>\n",
              "      <td>...</td>\n",
              "      <td>8</td>\n",
              "      <td>7</td>\n",
              "      <td>9</td>\n",
              "      <td>2</td>\n",
              "      <td>1</td>\n",
              "      <td>4</td>\n",
              "      <td>6</td>\n",
              "      <td>7</td>\n",
              "      <td>2</td>\n",
              "      <td>High</td>\n",
              "    </tr>\n",
              "  </tbody>\n",
              "</table>\n",
              "<p>1000 rows × 26 columns</p>\n",
              "</div>\n",
              "    <div class=\"colab-df-buttons\">\n",
              "\n",
              "  <div class=\"colab-df-container\">\n",
              "    <button class=\"colab-df-convert\" onclick=\"convertToInteractive('df-8c89c73f-1d6f-4afd-bca1-f96641bba4d6')\"\n",
              "            title=\"Convert this dataframe to an interactive table.\"\n",
              "            style=\"display:none;\">\n",
              "\n",
              "  <svg xmlns=\"http://www.w3.org/2000/svg\" height=\"24px\" viewBox=\"0 -960 960 960\">\n",
              "    <path d=\"M120-120v-720h720v720H120Zm60-500h600v-160H180v160Zm220 220h160v-160H400v160Zm0 220h160v-160H400v160ZM180-400h160v-160H180v160Zm440 0h160v-160H620v160ZM180-180h160v-160H180v160Zm440 0h160v-160H620v160Z\"/>\n",
              "  </svg>\n",
              "    </button>\n",
              "\n",
              "  <style>\n",
              "    .colab-df-container {\n",
              "      display:flex;\n",
              "      gap: 12px;\n",
              "    }\n",
              "\n",
              "    .colab-df-convert {\n",
              "      background-color: #E8F0FE;\n",
              "      border: none;\n",
              "      border-radius: 50%;\n",
              "      cursor: pointer;\n",
              "      display: none;\n",
              "      fill: #1967D2;\n",
              "      height: 32px;\n",
              "      padding: 0 0 0 0;\n",
              "      width: 32px;\n",
              "    }\n",
              "\n",
              "    .colab-df-convert:hover {\n",
              "      background-color: #E2EBFA;\n",
              "      box-shadow: 0px 1px 2px rgba(60, 64, 67, 0.3), 0px 1px 3px 1px rgba(60, 64, 67, 0.15);\n",
              "      fill: #174EA6;\n",
              "    }\n",
              "\n",
              "    .colab-df-buttons div {\n",
              "      margin-bottom: 4px;\n",
              "    }\n",
              "\n",
              "    [theme=dark] .colab-df-convert {\n",
              "      background-color: #3B4455;\n",
              "      fill: #D2E3FC;\n",
              "    }\n",
              "\n",
              "    [theme=dark] .colab-df-convert:hover {\n",
              "      background-color: #434B5C;\n",
              "      box-shadow: 0px 1px 3px 1px rgba(0, 0, 0, 0.15);\n",
              "      filter: drop-shadow(0px 1px 2px rgba(0, 0, 0, 0.3));\n",
              "      fill: #FFFFFF;\n",
              "    }\n",
              "  </style>\n",
              "\n",
              "    <script>\n",
              "      const buttonEl =\n",
              "        document.querySelector('#df-8c89c73f-1d6f-4afd-bca1-f96641bba4d6 button.colab-df-convert');\n",
              "      buttonEl.style.display =\n",
              "        google.colab.kernel.accessAllowed ? 'block' : 'none';\n",
              "\n",
              "      async function convertToInteractive(key) {\n",
              "        const element = document.querySelector('#df-8c89c73f-1d6f-4afd-bca1-f96641bba4d6');\n",
              "        const dataTable =\n",
              "          await google.colab.kernel.invokeFunction('convertToInteractive',\n",
              "                                                    [key], {});\n",
              "        if (!dataTable) return;\n",
              "\n",
              "        const docLinkHtml = 'Like what you see? Visit the ' +\n",
              "          '<a target=\"_blank\" href=https://colab.research.google.com/notebooks/data_table.ipynb>data table notebook</a>'\n",
              "          + ' to learn more about interactive tables.';\n",
              "        element.innerHTML = '';\n",
              "        dataTable['output_type'] = 'display_data';\n",
              "        await google.colab.output.renderOutput(dataTable, element);\n",
              "        const docLink = document.createElement('div');\n",
              "        docLink.innerHTML = docLinkHtml;\n",
              "        element.appendChild(docLink);\n",
              "      }\n",
              "    </script>\n",
              "  </div>\n",
              "\n",
              "\n",
              "<div id=\"df-f5967ae0-92dc-4f2b-806a-8e996d66d793\">\n",
              "  <button class=\"colab-df-quickchart\" onclick=\"quickchart('df-f5967ae0-92dc-4f2b-806a-8e996d66d793')\"\n",
              "            title=\"Suggest charts\"\n",
              "            style=\"display:none;\">\n",
              "\n",
              "<svg xmlns=\"http://www.w3.org/2000/svg\" height=\"24px\"viewBox=\"0 0 24 24\"\n",
              "     width=\"24px\">\n",
              "    <g>\n",
              "        <path d=\"M19 3H5c-1.1 0-2 .9-2 2v14c0 1.1.9 2 2 2h14c1.1 0 2-.9 2-2V5c0-1.1-.9-2-2-2zM9 17H7v-7h2v7zm4 0h-2V7h2v10zm4 0h-2v-4h2v4z\"/>\n",
              "    </g>\n",
              "</svg>\n",
              "  </button>\n",
              "\n",
              "<style>\n",
              "  .colab-df-quickchart {\n",
              "      --bg-color: #E8F0FE;\n",
              "      --fill-color: #1967D2;\n",
              "      --hover-bg-color: #E2EBFA;\n",
              "      --hover-fill-color: #174EA6;\n",
              "      --disabled-fill-color: #AAA;\n",
              "      --disabled-bg-color: #DDD;\n",
              "  }\n",
              "\n",
              "  [theme=dark] .colab-df-quickchart {\n",
              "      --bg-color: #3B4455;\n",
              "      --fill-color: #D2E3FC;\n",
              "      --hover-bg-color: #434B5C;\n",
              "      --hover-fill-color: #FFFFFF;\n",
              "      --disabled-bg-color: #3B4455;\n",
              "      --disabled-fill-color: #666;\n",
              "  }\n",
              "\n",
              "  .colab-df-quickchart {\n",
              "    background-color: var(--bg-color);\n",
              "    border: none;\n",
              "    border-radius: 50%;\n",
              "    cursor: pointer;\n",
              "    display: none;\n",
              "    fill: var(--fill-color);\n",
              "    height: 32px;\n",
              "    padding: 0;\n",
              "    width: 32px;\n",
              "  }\n",
              "\n",
              "  .colab-df-quickchart:hover {\n",
              "    background-color: var(--hover-bg-color);\n",
              "    box-shadow: 0 1px 2px rgba(60, 64, 67, 0.3), 0 1px 3px 1px rgba(60, 64, 67, 0.15);\n",
              "    fill: var(--button-hover-fill-color);\n",
              "  }\n",
              "\n",
              "  .colab-df-quickchart-complete:disabled,\n",
              "  .colab-df-quickchart-complete:disabled:hover {\n",
              "    background-color: var(--disabled-bg-color);\n",
              "    fill: var(--disabled-fill-color);\n",
              "    box-shadow: none;\n",
              "  }\n",
              "\n",
              "  .colab-df-spinner {\n",
              "    border: 2px solid var(--fill-color);\n",
              "    border-color: transparent;\n",
              "    border-bottom-color: var(--fill-color);\n",
              "    animation:\n",
              "      spin 1s steps(1) infinite;\n",
              "  }\n",
              "\n",
              "  @keyframes spin {\n",
              "    0% {\n",
              "      border-color: transparent;\n",
              "      border-bottom-color: var(--fill-color);\n",
              "      border-left-color: var(--fill-color);\n",
              "    }\n",
              "    20% {\n",
              "      border-color: transparent;\n",
              "      border-left-color: var(--fill-color);\n",
              "      border-top-color: var(--fill-color);\n",
              "    }\n",
              "    30% {\n",
              "      border-color: transparent;\n",
              "      border-left-color: var(--fill-color);\n",
              "      border-top-color: var(--fill-color);\n",
              "      border-right-color: var(--fill-color);\n",
              "    }\n",
              "    40% {\n",
              "      border-color: transparent;\n",
              "      border-right-color: var(--fill-color);\n",
              "      border-top-color: var(--fill-color);\n",
              "    }\n",
              "    60% {\n",
              "      border-color: transparent;\n",
              "      border-right-color: var(--fill-color);\n",
              "    }\n",
              "    80% {\n",
              "      border-color: transparent;\n",
              "      border-right-color: var(--fill-color);\n",
              "      border-bottom-color: var(--fill-color);\n",
              "    }\n",
              "    90% {\n",
              "      border-color: transparent;\n",
              "      border-bottom-color: var(--fill-color);\n",
              "    }\n",
              "  }\n",
              "</style>\n",
              "\n",
              "  <script>\n",
              "    async function quickchart(key) {\n",
              "      const quickchartButtonEl =\n",
              "        document.querySelector('#' + key + ' button');\n",
              "      quickchartButtonEl.disabled = true;  // To prevent multiple clicks.\n",
              "      quickchartButtonEl.classList.add('colab-df-spinner');\n",
              "      try {\n",
              "        const charts = await google.colab.kernel.invokeFunction(\n",
              "            'suggestCharts', [key], {});\n",
              "      } catch (error) {\n",
              "        console.error('Error during call to suggestCharts:', error);\n",
              "      }\n",
              "      quickchartButtonEl.classList.remove('colab-df-spinner');\n",
              "      quickchartButtonEl.classList.add('colab-df-quickchart-complete');\n",
              "    }\n",
              "    (() => {\n",
              "      let quickchartButtonEl =\n",
              "        document.querySelector('#df-f5967ae0-92dc-4f2b-806a-8e996d66d793 button');\n",
              "      quickchartButtonEl.style.display =\n",
              "        google.colab.kernel.accessAllowed ? 'block' : 'none';\n",
              "    })();\n",
              "  </script>\n",
              "</div>\n",
              "    </div>\n",
              "  </div>\n"
            ],
            "application/vnd.google.colaboratory.intrinsic+json": {
              "type": "dataframe",
              "variable_name": "lung_data"
            }
          },
          "metadata": {},
          "execution_count": 251
        }
      ]
    },
    {
      "cell_type": "markdown",
      "source": [
        "Uklanjanje kolona"
      ],
      "metadata": {
        "id": "4i3y3ODWLa9S"
      }
    },
    {
      "cell_type": "code",
      "source": [
        "lung_data.drop(['index', 'Patient Id'], axis=1, inplace=True)"
      ],
      "metadata": {
        "id": "S4-V9M8DfDlm"
      },
      "execution_count": null,
      "outputs": []
    },
    {
      "cell_type": "markdown",
      "source": [
        "Broj kolona i vrsta"
      ],
      "metadata": {
        "id": "Ah-_Ax1oMHzJ"
      }
    },
    {
      "cell_type": "code",
      "source": [
        "lung_data.shape"
      ],
      "metadata": {
        "colab": {
          "base_uri": "https://localhost:8080/"
        },
        "id": "ibxUoQJffW1D",
        "outputId": "a00f3a38-08ac-4e87-ee9f-e420cabc50f9"
      },
      "execution_count": null,
      "outputs": [
        {
          "output_type": "execute_result",
          "data": {
            "text/plain": [
              "(1000, 24)"
            ]
          },
          "metadata": {},
          "execution_count": 253
        }
      ]
    },
    {
      "cell_type": "markdown",
      "source": [
        "Provera null vrednosti"
      ],
      "metadata": {
        "id": "rDnrolvzLeyw"
      }
    },
    {
      "cell_type": "code",
      "source": [
        "print(lung_data.isnull().sum())"
      ],
      "metadata": {
        "colab": {
          "base_uri": "https://localhost:8080/"
        },
        "id": "hrcNgcoWiP5U",
        "outputId": "c13b0b20-93c3-4154-ba6c-ffd9292ef2c5"
      },
      "execution_count": null,
      "outputs": [
        {
          "output_type": "stream",
          "name": "stdout",
          "text": [
            "Age                         0\n",
            "Gender                      0\n",
            "Air Pollution               0\n",
            "Alcohol use                 0\n",
            "Dust Allergy                0\n",
            "OccuPational Hazards        0\n",
            "Genetic Risk                0\n",
            "chronic Lung Disease        0\n",
            "Balanced Diet               0\n",
            "Obesity                     0\n",
            "Smoking                     0\n",
            "Passive Smoker              0\n",
            "Chest Pain                  0\n",
            "Coughing of Blood           0\n",
            "Fatigue                     0\n",
            "Weight Loss                 0\n",
            "Shortness of Breath         0\n",
            "Wheezing                    0\n",
            "Swallowing Difficulty       0\n",
            "Clubbing of Finger Nails    0\n",
            "Frequent Cold               0\n",
            "Dry Cough                   0\n",
            "Snoring                     0\n",
            "Level                       0\n",
            "dtype: int64\n"
          ]
        }
      ]
    },
    {
      "cell_type": "markdown",
      "source": [
        "Provera tipova"
      ],
      "metadata": {
        "id": "dpGs5WxMMRAm"
      }
    },
    {
      "cell_type": "code",
      "source": [
        "lung_data.dtypes"
      ],
      "metadata": {
        "colab": {
          "base_uri": "https://localhost:8080/"
        },
        "id": "c6lLh1ZefYDe",
        "outputId": "1fac6b04-a4a3-4692-ee23-aa649fc11185"
      },
      "execution_count": null,
      "outputs": [
        {
          "output_type": "execute_result",
          "data": {
            "text/plain": [
              "Age                          int64\n",
              "Gender                       int64\n",
              "Air Pollution                int64\n",
              "Alcohol use                  int64\n",
              "Dust Allergy                 int64\n",
              "OccuPational Hazards         int64\n",
              "Genetic Risk                 int64\n",
              "chronic Lung Disease         int64\n",
              "Balanced Diet                int64\n",
              "Obesity                      int64\n",
              "Smoking                      int64\n",
              "Passive Smoker               int64\n",
              "Chest Pain                   int64\n",
              "Coughing of Blood            int64\n",
              "Fatigue                      int64\n",
              "Weight Loss                  int64\n",
              "Shortness of Breath          int64\n",
              "Wheezing                     int64\n",
              "Swallowing Difficulty        int64\n",
              "Clubbing of Finger Nails     int64\n",
              "Frequent Cold                int64\n",
              "Dry Cough                    int64\n",
              "Snoring                      int64\n",
              "Level                       object\n",
              "dtype: object"
            ]
          },
          "metadata": {},
          "execution_count": 255
        }
      ]
    },
    {
      "cell_type": "markdown",
      "source": [
        "Osnovne statističke informacije"
      ],
      "metadata": {
        "id": "oKYwSM7FLras"
      }
    },
    {
      "cell_type": "code",
      "source": [
        "print(lung_data.describe())"
      ],
      "metadata": {
        "colab": {
          "base_uri": "https://localhost:8080/"
        },
        "id": "5kSGT__fiRNa",
        "outputId": "9c9c3ba5-1d65-4b0f-afc5-0607c5643c61"
      },
      "execution_count": null,
      "outputs": [
        {
          "output_type": "stream",
          "name": "stdout",
          "text": [
            "               Age       Gender  Air Pollution  Alcohol use  Dust Allergy  \\\n",
            "count  1000.000000  1000.000000      1000.0000  1000.000000   1000.000000   \n",
            "mean     37.174000     1.402000         3.8400     4.563000      5.165000   \n",
            "std      12.005493     0.490547         2.0304     2.620477      1.980833   \n",
            "min      14.000000     1.000000         1.0000     1.000000      1.000000   \n",
            "25%      27.750000     1.000000         2.0000     2.000000      4.000000   \n",
            "50%      36.000000     1.000000         3.0000     5.000000      6.000000   \n",
            "75%      45.000000     2.000000         6.0000     7.000000      7.000000   \n",
            "max      73.000000     2.000000         8.0000     8.000000      8.000000   \n",
            "\n",
            "       OccuPational Hazards  Genetic Risk  chronic Lung Disease  \\\n",
            "count           1000.000000   1000.000000           1000.000000   \n",
            "mean               4.840000      4.580000              4.380000   \n",
            "std                2.107805      2.126999              1.848518   \n",
            "min                1.000000      1.000000              1.000000   \n",
            "25%                3.000000      2.000000              3.000000   \n",
            "50%                5.000000      5.000000              4.000000   \n",
            "75%                7.000000      7.000000              6.000000   \n",
            "max                8.000000      7.000000              7.000000   \n",
            "\n",
            "       Balanced Diet      Obesity  ...  Coughing of Blood      Fatigue  \\\n",
            "count    1000.000000  1000.000000  ...        1000.000000  1000.000000   \n",
            "mean        4.491000     4.465000  ...           4.859000     3.856000   \n",
            "std         2.135528     2.124921  ...           2.427965     2.244616   \n",
            "min         1.000000     1.000000  ...           1.000000     1.000000   \n",
            "25%         2.000000     3.000000  ...           3.000000     2.000000   \n",
            "50%         4.000000     4.000000  ...           4.000000     3.000000   \n",
            "75%         7.000000     7.000000  ...           7.000000     5.000000   \n",
            "max         7.000000     7.000000  ...           9.000000     9.000000   \n",
            "\n",
            "       Weight Loss  Shortness of Breath     Wheezing  Swallowing Difficulty  \\\n",
            "count  1000.000000          1000.000000  1000.000000            1000.000000   \n",
            "mean      3.855000             4.240000     3.777000               3.746000   \n",
            "std       2.206546             2.285087     2.041921               2.270383   \n",
            "min       1.000000             1.000000     1.000000               1.000000   \n",
            "25%       2.000000             2.000000     2.000000               2.000000   \n",
            "50%       3.000000             4.000000     4.000000               4.000000   \n",
            "75%       6.000000             6.000000     5.000000               5.000000   \n",
            "max       8.000000             9.000000     8.000000               8.000000   \n",
            "\n",
            "       Clubbing of Finger Nails  Frequent Cold    Dry Cough      Snoring  \n",
            "count               1000.000000    1000.000000  1000.000000  1000.000000  \n",
            "mean                   3.923000       3.536000     3.853000     2.926000  \n",
            "std                    2.388048       1.832502     2.039007     1.474686  \n",
            "min                    1.000000       1.000000     1.000000     1.000000  \n",
            "25%                    2.000000       2.000000     2.000000     2.000000  \n",
            "50%                    4.000000       3.000000     4.000000     3.000000  \n",
            "75%                    5.000000       5.000000     6.000000     4.000000  \n",
            "max                    9.000000       7.000000     7.000000     7.000000  \n",
            "\n",
            "[8 rows x 23 columns]\n"
          ]
        }
      ]
    },
    {
      "cell_type": "markdown",
      "source": [
        "Ponovni ispis tabele"
      ],
      "metadata": {
        "id": "PQIiydPeLv0g"
      }
    },
    {
      "cell_type": "code",
      "source": [
        "lung_data"
      ],
      "metadata": {
        "colab": {
          "base_uri": "https://localhost:8080/",
          "height": 496
        },
        "id": "EqzMX8r7jpmj",
        "outputId": "d1240108-b39c-4852-cf4e-28049c8aad6a"
      },
      "execution_count": null,
      "outputs": [
        {
          "output_type": "execute_result",
          "data": {
            "text/plain": [
              "     Age  Gender  Air Pollution  Alcohol use  Dust Allergy  \\\n",
              "0     33       1              2            4             5   \n",
              "1     17       1              3            1             5   \n",
              "2     35       1              4            5             6   \n",
              "3     37       1              7            7             7   \n",
              "4     46       1              6            8             7   \n",
              "..   ...     ...            ...          ...           ...   \n",
              "995   44       1              6            7             7   \n",
              "996   37       2              6            8             7   \n",
              "997   25       2              4            5             6   \n",
              "998   18       2              6            8             7   \n",
              "999   47       1              6            5             6   \n",
              "\n",
              "     OccuPational Hazards  Genetic Risk  chronic Lung Disease  Balanced Diet  \\\n",
              "0                       4             3                     2              2   \n",
              "1                       3             4                     2              2   \n",
              "2                       5             5                     4              6   \n",
              "3                       7             6                     7              7   \n",
              "4                       7             7                     6              7   \n",
              "..                    ...           ...                   ...            ...   \n",
              "995                     7             7                     6              7   \n",
              "996                     7             7                     6              7   \n",
              "997                     5             5                     4              6   \n",
              "998                     7             7                     6              7   \n",
              "999                     5             5                     4              6   \n",
              "\n",
              "     Obesity  ...  Fatigue  Weight Loss  Shortness of Breath  Wheezing  \\\n",
              "0          4  ...        3            4                    2         2   \n",
              "1          2  ...        1            3                    7         8   \n",
              "2          7  ...        8            7                    9         2   \n",
              "3          7  ...        4            2                    3         1   \n",
              "4          7  ...        3            2                    4         1   \n",
              "..       ...  ...      ...          ...                  ...       ...   \n",
              "995        7  ...        5            3                    2         7   \n",
              "996        7  ...        9            6                    5         7   \n",
              "997        7  ...        8            7                    9         2   \n",
              "998        7  ...        3            2                    4         1   \n",
              "999        7  ...        8            7                    9         2   \n",
              "\n",
              "     Swallowing Difficulty  Clubbing of Finger Nails  Frequent Cold  \\\n",
              "0                        3                         1              2   \n",
              "1                        6                         2              1   \n",
              "2                        1                         4              6   \n",
              "3                        4                         5              6   \n",
              "4                        4                         2              4   \n",
              "..                     ...                       ...            ...   \n",
              "995                      8                         2              4   \n",
              "996                      2                         4              3   \n",
              "997                      1                         4              6   \n",
              "998                      4                         2              4   \n",
              "999                      1                         4              6   \n",
              "\n",
              "     Dry Cough  Snoring   Level  \n",
              "0            3        4     Low  \n",
              "1            7        2  Medium  \n",
              "2            7        2    High  \n",
              "3            7        5    High  \n",
              "4            2        3    High  \n",
              "..         ...      ...     ...  \n",
              "995          5        3    High  \n",
              "996          1        4    High  \n",
              "997          7        2    High  \n",
              "998          2        3    High  \n",
              "999          7        2    High  \n",
              "\n",
              "[1000 rows x 24 columns]"
            ],
            "text/html": [
              "\n",
              "  <div id=\"df-b79e5ad3-9601-44bd-a1a7-97f52ca95685\" class=\"colab-df-container\">\n",
              "    <div>\n",
              "<style scoped>\n",
              "    .dataframe tbody tr th:only-of-type {\n",
              "        vertical-align: middle;\n",
              "    }\n",
              "\n",
              "    .dataframe tbody tr th {\n",
              "        vertical-align: top;\n",
              "    }\n",
              "\n",
              "    .dataframe thead th {\n",
              "        text-align: right;\n",
              "    }\n",
              "</style>\n",
              "<table border=\"1\" class=\"dataframe\">\n",
              "  <thead>\n",
              "    <tr style=\"text-align: right;\">\n",
              "      <th></th>\n",
              "      <th>Age</th>\n",
              "      <th>Gender</th>\n",
              "      <th>Air Pollution</th>\n",
              "      <th>Alcohol use</th>\n",
              "      <th>Dust Allergy</th>\n",
              "      <th>OccuPational Hazards</th>\n",
              "      <th>Genetic Risk</th>\n",
              "      <th>chronic Lung Disease</th>\n",
              "      <th>Balanced Diet</th>\n",
              "      <th>Obesity</th>\n",
              "      <th>...</th>\n",
              "      <th>Fatigue</th>\n",
              "      <th>Weight Loss</th>\n",
              "      <th>Shortness of Breath</th>\n",
              "      <th>Wheezing</th>\n",
              "      <th>Swallowing Difficulty</th>\n",
              "      <th>Clubbing of Finger Nails</th>\n",
              "      <th>Frequent Cold</th>\n",
              "      <th>Dry Cough</th>\n",
              "      <th>Snoring</th>\n",
              "      <th>Level</th>\n",
              "    </tr>\n",
              "  </thead>\n",
              "  <tbody>\n",
              "    <tr>\n",
              "      <th>0</th>\n",
              "      <td>33</td>\n",
              "      <td>1</td>\n",
              "      <td>2</td>\n",
              "      <td>4</td>\n",
              "      <td>5</td>\n",
              "      <td>4</td>\n",
              "      <td>3</td>\n",
              "      <td>2</td>\n",
              "      <td>2</td>\n",
              "      <td>4</td>\n",
              "      <td>...</td>\n",
              "      <td>3</td>\n",
              "      <td>4</td>\n",
              "      <td>2</td>\n",
              "      <td>2</td>\n",
              "      <td>3</td>\n",
              "      <td>1</td>\n",
              "      <td>2</td>\n",
              "      <td>3</td>\n",
              "      <td>4</td>\n",
              "      <td>Low</td>\n",
              "    </tr>\n",
              "    <tr>\n",
              "      <th>1</th>\n",
              "      <td>17</td>\n",
              "      <td>1</td>\n",
              "      <td>3</td>\n",
              "      <td>1</td>\n",
              "      <td>5</td>\n",
              "      <td>3</td>\n",
              "      <td>4</td>\n",
              "      <td>2</td>\n",
              "      <td>2</td>\n",
              "      <td>2</td>\n",
              "      <td>...</td>\n",
              "      <td>1</td>\n",
              "      <td>3</td>\n",
              "      <td>7</td>\n",
              "      <td>8</td>\n",
              "      <td>6</td>\n",
              "      <td>2</td>\n",
              "      <td>1</td>\n",
              "      <td>7</td>\n",
              "      <td>2</td>\n",
              "      <td>Medium</td>\n",
              "    </tr>\n",
              "    <tr>\n",
              "      <th>2</th>\n",
              "      <td>35</td>\n",
              "      <td>1</td>\n",
              "      <td>4</td>\n",
              "      <td>5</td>\n",
              "      <td>6</td>\n",
              "      <td>5</td>\n",
              "      <td>5</td>\n",
              "      <td>4</td>\n",
              "      <td>6</td>\n",
              "      <td>7</td>\n",
              "      <td>...</td>\n",
              "      <td>8</td>\n",
              "      <td>7</td>\n",
              "      <td>9</td>\n",
              "      <td>2</td>\n",
              "      <td>1</td>\n",
              "      <td>4</td>\n",
              "      <td>6</td>\n",
              "      <td>7</td>\n",
              "      <td>2</td>\n",
              "      <td>High</td>\n",
              "    </tr>\n",
              "    <tr>\n",
              "      <th>3</th>\n",
              "      <td>37</td>\n",
              "      <td>1</td>\n",
              "      <td>7</td>\n",
              "      <td>7</td>\n",
              "      <td>7</td>\n",
              "      <td>7</td>\n",
              "      <td>6</td>\n",
              "      <td>7</td>\n",
              "      <td>7</td>\n",
              "      <td>7</td>\n",
              "      <td>...</td>\n",
              "      <td>4</td>\n",
              "      <td>2</td>\n",
              "      <td>3</td>\n",
              "      <td>1</td>\n",
              "      <td>4</td>\n",
              "      <td>5</td>\n",
              "      <td>6</td>\n",
              "      <td>7</td>\n",
              "      <td>5</td>\n",
              "      <td>High</td>\n",
              "    </tr>\n",
              "    <tr>\n",
              "      <th>4</th>\n",
              "      <td>46</td>\n",
              "      <td>1</td>\n",
              "      <td>6</td>\n",
              "      <td>8</td>\n",
              "      <td>7</td>\n",
              "      <td>7</td>\n",
              "      <td>7</td>\n",
              "      <td>6</td>\n",
              "      <td>7</td>\n",
              "      <td>7</td>\n",
              "      <td>...</td>\n",
              "      <td>3</td>\n",
              "      <td>2</td>\n",
              "      <td>4</td>\n",
              "      <td>1</td>\n",
              "      <td>4</td>\n",
              "      <td>2</td>\n",
              "      <td>4</td>\n",
              "      <td>2</td>\n",
              "      <td>3</td>\n",
              "      <td>High</td>\n",
              "    </tr>\n",
              "    <tr>\n",
              "      <th>...</th>\n",
              "      <td>...</td>\n",
              "      <td>...</td>\n",
              "      <td>...</td>\n",
              "      <td>...</td>\n",
              "      <td>...</td>\n",
              "      <td>...</td>\n",
              "      <td>...</td>\n",
              "      <td>...</td>\n",
              "      <td>...</td>\n",
              "      <td>...</td>\n",
              "      <td>...</td>\n",
              "      <td>...</td>\n",
              "      <td>...</td>\n",
              "      <td>...</td>\n",
              "      <td>...</td>\n",
              "      <td>...</td>\n",
              "      <td>...</td>\n",
              "      <td>...</td>\n",
              "      <td>...</td>\n",
              "      <td>...</td>\n",
              "      <td>...</td>\n",
              "    </tr>\n",
              "    <tr>\n",
              "      <th>995</th>\n",
              "      <td>44</td>\n",
              "      <td>1</td>\n",
              "      <td>6</td>\n",
              "      <td>7</td>\n",
              "      <td>7</td>\n",
              "      <td>7</td>\n",
              "      <td>7</td>\n",
              "      <td>6</td>\n",
              "      <td>7</td>\n",
              "      <td>7</td>\n",
              "      <td>...</td>\n",
              "      <td>5</td>\n",
              "      <td>3</td>\n",
              "      <td>2</td>\n",
              "      <td>7</td>\n",
              "      <td>8</td>\n",
              "      <td>2</td>\n",
              "      <td>4</td>\n",
              "      <td>5</td>\n",
              "      <td>3</td>\n",
              "      <td>High</td>\n",
              "    </tr>\n",
              "    <tr>\n",
              "      <th>996</th>\n",
              "      <td>37</td>\n",
              "      <td>2</td>\n",
              "      <td>6</td>\n",
              "      <td>8</td>\n",
              "      <td>7</td>\n",
              "      <td>7</td>\n",
              "      <td>7</td>\n",
              "      <td>6</td>\n",
              "      <td>7</td>\n",
              "      <td>7</td>\n",
              "      <td>...</td>\n",
              "      <td>9</td>\n",
              "      <td>6</td>\n",
              "      <td>5</td>\n",
              "      <td>7</td>\n",
              "      <td>2</td>\n",
              "      <td>4</td>\n",
              "      <td>3</td>\n",
              "      <td>1</td>\n",
              "      <td>4</td>\n",
              "      <td>High</td>\n",
              "    </tr>\n",
              "    <tr>\n",
              "      <th>997</th>\n",
              "      <td>25</td>\n",
              "      <td>2</td>\n",
              "      <td>4</td>\n",
              "      <td>5</td>\n",
              "      <td>6</td>\n",
              "      <td>5</td>\n",
              "      <td>5</td>\n",
              "      <td>4</td>\n",
              "      <td>6</td>\n",
              "      <td>7</td>\n",
              "      <td>...</td>\n",
              "      <td>8</td>\n",
              "      <td>7</td>\n",
              "      <td>9</td>\n",
              "      <td>2</td>\n",
              "      <td>1</td>\n",
              "      <td>4</td>\n",
              "      <td>6</td>\n",
              "      <td>7</td>\n",
              "      <td>2</td>\n",
              "      <td>High</td>\n",
              "    </tr>\n",
              "    <tr>\n",
              "      <th>998</th>\n",
              "      <td>18</td>\n",
              "      <td>2</td>\n",
              "      <td>6</td>\n",
              "      <td>8</td>\n",
              "      <td>7</td>\n",
              "      <td>7</td>\n",
              "      <td>7</td>\n",
              "      <td>6</td>\n",
              "      <td>7</td>\n",
              "      <td>7</td>\n",
              "      <td>...</td>\n",
              "      <td>3</td>\n",
              "      <td>2</td>\n",
              "      <td>4</td>\n",
              "      <td>1</td>\n",
              "      <td>4</td>\n",
              "      <td>2</td>\n",
              "      <td>4</td>\n",
              "      <td>2</td>\n",
              "      <td>3</td>\n",
              "      <td>High</td>\n",
              "    </tr>\n",
              "    <tr>\n",
              "      <th>999</th>\n",
              "      <td>47</td>\n",
              "      <td>1</td>\n",
              "      <td>6</td>\n",
              "      <td>5</td>\n",
              "      <td>6</td>\n",
              "      <td>5</td>\n",
              "      <td>5</td>\n",
              "      <td>4</td>\n",
              "      <td>6</td>\n",
              "      <td>7</td>\n",
              "      <td>...</td>\n",
              "      <td>8</td>\n",
              "      <td>7</td>\n",
              "      <td>9</td>\n",
              "      <td>2</td>\n",
              "      <td>1</td>\n",
              "      <td>4</td>\n",
              "      <td>6</td>\n",
              "      <td>7</td>\n",
              "      <td>2</td>\n",
              "      <td>High</td>\n",
              "    </tr>\n",
              "  </tbody>\n",
              "</table>\n",
              "<p>1000 rows × 24 columns</p>\n",
              "</div>\n",
              "    <div class=\"colab-df-buttons\">\n",
              "\n",
              "  <div class=\"colab-df-container\">\n",
              "    <button class=\"colab-df-convert\" onclick=\"convertToInteractive('df-b79e5ad3-9601-44bd-a1a7-97f52ca95685')\"\n",
              "            title=\"Convert this dataframe to an interactive table.\"\n",
              "            style=\"display:none;\">\n",
              "\n",
              "  <svg xmlns=\"http://www.w3.org/2000/svg\" height=\"24px\" viewBox=\"0 -960 960 960\">\n",
              "    <path d=\"M120-120v-720h720v720H120Zm60-500h600v-160H180v160Zm220 220h160v-160H400v160Zm0 220h160v-160H400v160ZM180-400h160v-160H180v160Zm440 0h160v-160H620v160ZM180-180h160v-160H180v160Zm440 0h160v-160H620v160Z\"/>\n",
              "  </svg>\n",
              "    </button>\n",
              "\n",
              "  <style>\n",
              "    .colab-df-container {\n",
              "      display:flex;\n",
              "      gap: 12px;\n",
              "    }\n",
              "\n",
              "    .colab-df-convert {\n",
              "      background-color: #E8F0FE;\n",
              "      border: none;\n",
              "      border-radius: 50%;\n",
              "      cursor: pointer;\n",
              "      display: none;\n",
              "      fill: #1967D2;\n",
              "      height: 32px;\n",
              "      padding: 0 0 0 0;\n",
              "      width: 32px;\n",
              "    }\n",
              "\n",
              "    .colab-df-convert:hover {\n",
              "      background-color: #E2EBFA;\n",
              "      box-shadow: 0px 1px 2px rgba(60, 64, 67, 0.3), 0px 1px 3px 1px rgba(60, 64, 67, 0.15);\n",
              "      fill: #174EA6;\n",
              "    }\n",
              "\n",
              "    .colab-df-buttons div {\n",
              "      margin-bottom: 4px;\n",
              "    }\n",
              "\n",
              "    [theme=dark] .colab-df-convert {\n",
              "      background-color: #3B4455;\n",
              "      fill: #D2E3FC;\n",
              "    }\n",
              "\n",
              "    [theme=dark] .colab-df-convert:hover {\n",
              "      background-color: #434B5C;\n",
              "      box-shadow: 0px 1px 3px 1px rgba(0, 0, 0, 0.15);\n",
              "      filter: drop-shadow(0px 1px 2px rgba(0, 0, 0, 0.3));\n",
              "      fill: #FFFFFF;\n",
              "    }\n",
              "  </style>\n",
              "\n",
              "    <script>\n",
              "      const buttonEl =\n",
              "        document.querySelector('#df-b79e5ad3-9601-44bd-a1a7-97f52ca95685 button.colab-df-convert');\n",
              "      buttonEl.style.display =\n",
              "        google.colab.kernel.accessAllowed ? 'block' : 'none';\n",
              "\n",
              "      async function convertToInteractive(key) {\n",
              "        const element = document.querySelector('#df-b79e5ad3-9601-44bd-a1a7-97f52ca95685');\n",
              "        const dataTable =\n",
              "          await google.colab.kernel.invokeFunction('convertToInteractive',\n",
              "                                                    [key], {});\n",
              "        if (!dataTable) return;\n",
              "\n",
              "        const docLinkHtml = 'Like what you see? Visit the ' +\n",
              "          '<a target=\"_blank\" href=https://colab.research.google.com/notebooks/data_table.ipynb>data table notebook</a>'\n",
              "          + ' to learn more about interactive tables.';\n",
              "        element.innerHTML = '';\n",
              "        dataTable['output_type'] = 'display_data';\n",
              "        await google.colab.output.renderOutput(dataTable, element);\n",
              "        const docLink = document.createElement('div');\n",
              "        docLink.innerHTML = docLinkHtml;\n",
              "        element.appendChild(docLink);\n",
              "      }\n",
              "    </script>\n",
              "  </div>\n",
              "\n",
              "\n",
              "<div id=\"df-3f8ac9f3-75b5-4f9e-86d5-41a9ce9fceb0\">\n",
              "  <button class=\"colab-df-quickchart\" onclick=\"quickchart('df-3f8ac9f3-75b5-4f9e-86d5-41a9ce9fceb0')\"\n",
              "            title=\"Suggest charts\"\n",
              "            style=\"display:none;\">\n",
              "\n",
              "<svg xmlns=\"http://www.w3.org/2000/svg\" height=\"24px\"viewBox=\"0 0 24 24\"\n",
              "     width=\"24px\">\n",
              "    <g>\n",
              "        <path d=\"M19 3H5c-1.1 0-2 .9-2 2v14c0 1.1.9 2 2 2h14c1.1 0 2-.9 2-2V5c0-1.1-.9-2-2-2zM9 17H7v-7h2v7zm4 0h-2V7h2v10zm4 0h-2v-4h2v4z\"/>\n",
              "    </g>\n",
              "</svg>\n",
              "  </button>\n",
              "\n",
              "<style>\n",
              "  .colab-df-quickchart {\n",
              "      --bg-color: #E8F0FE;\n",
              "      --fill-color: #1967D2;\n",
              "      --hover-bg-color: #E2EBFA;\n",
              "      --hover-fill-color: #174EA6;\n",
              "      --disabled-fill-color: #AAA;\n",
              "      --disabled-bg-color: #DDD;\n",
              "  }\n",
              "\n",
              "  [theme=dark] .colab-df-quickchart {\n",
              "      --bg-color: #3B4455;\n",
              "      --fill-color: #D2E3FC;\n",
              "      --hover-bg-color: #434B5C;\n",
              "      --hover-fill-color: #FFFFFF;\n",
              "      --disabled-bg-color: #3B4455;\n",
              "      --disabled-fill-color: #666;\n",
              "  }\n",
              "\n",
              "  .colab-df-quickchart {\n",
              "    background-color: var(--bg-color);\n",
              "    border: none;\n",
              "    border-radius: 50%;\n",
              "    cursor: pointer;\n",
              "    display: none;\n",
              "    fill: var(--fill-color);\n",
              "    height: 32px;\n",
              "    padding: 0;\n",
              "    width: 32px;\n",
              "  }\n",
              "\n",
              "  .colab-df-quickchart:hover {\n",
              "    background-color: var(--hover-bg-color);\n",
              "    box-shadow: 0 1px 2px rgba(60, 64, 67, 0.3), 0 1px 3px 1px rgba(60, 64, 67, 0.15);\n",
              "    fill: var(--button-hover-fill-color);\n",
              "  }\n",
              "\n",
              "  .colab-df-quickchart-complete:disabled,\n",
              "  .colab-df-quickchart-complete:disabled:hover {\n",
              "    background-color: var(--disabled-bg-color);\n",
              "    fill: var(--disabled-fill-color);\n",
              "    box-shadow: none;\n",
              "  }\n",
              "\n",
              "  .colab-df-spinner {\n",
              "    border: 2px solid var(--fill-color);\n",
              "    border-color: transparent;\n",
              "    border-bottom-color: var(--fill-color);\n",
              "    animation:\n",
              "      spin 1s steps(1) infinite;\n",
              "  }\n",
              "\n",
              "  @keyframes spin {\n",
              "    0% {\n",
              "      border-color: transparent;\n",
              "      border-bottom-color: var(--fill-color);\n",
              "      border-left-color: var(--fill-color);\n",
              "    }\n",
              "    20% {\n",
              "      border-color: transparent;\n",
              "      border-left-color: var(--fill-color);\n",
              "      border-top-color: var(--fill-color);\n",
              "    }\n",
              "    30% {\n",
              "      border-color: transparent;\n",
              "      border-left-color: var(--fill-color);\n",
              "      border-top-color: var(--fill-color);\n",
              "      border-right-color: var(--fill-color);\n",
              "    }\n",
              "    40% {\n",
              "      border-color: transparent;\n",
              "      border-right-color: var(--fill-color);\n",
              "      border-top-color: var(--fill-color);\n",
              "    }\n",
              "    60% {\n",
              "      border-color: transparent;\n",
              "      border-right-color: var(--fill-color);\n",
              "    }\n",
              "    80% {\n",
              "      border-color: transparent;\n",
              "      border-right-color: var(--fill-color);\n",
              "      border-bottom-color: var(--fill-color);\n",
              "    }\n",
              "    90% {\n",
              "      border-color: transparent;\n",
              "      border-bottom-color: var(--fill-color);\n",
              "    }\n",
              "  }\n",
              "</style>\n",
              "\n",
              "  <script>\n",
              "    async function quickchart(key) {\n",
              "      const quickchartButtonEl =\n",
              "        document.querySelector('#' + key + ' button');\n",
              "      quickchartButtonEl.disabled = true;  // To prevent multiple clicks.\n",
              "      quickchartButtonEl.classList.add('colab-df-spinner');\n",
              "      try {\n",
              "        const charts = await google.colab.kernel.invokeFunction(\n",
              "            'suggestCharts', [key], {});\n",
              "      } catch (error) {\n",
              "        console.error('Error during call to suggestCharts:', error);\n",
              "      }\n",
              "      quickchartButtonEl.classList.remove('colab-df-spinner');\n",
              "      quickchartButtonEl.classList.add('colab-df-quickchart-complete');\n",
              "    }\n",
              "    (() => {\n",
              "      let quickchartButtonEl =\n",
              "        document.querySelector('#df-3f8ac9f3-75b5-4f9e-86d5-41a9ce9fceb0 button');\n",
              "      quickchartButtonEl.style.display =\n",
              "        google.colab.kernel.accessAllowed ? 'block' : 'none';\n",
              "    })();\n",
              "  </script>\n",
              "</div>\n",
              "    </div>\n",
              "  </div>\n"
            ],
            "application/vnd.google.colaboratory.intrinsic+json": {
              "type": "dataframe",
              "variable_name": "lung_data"
            }
          },
          "metadata": {},
          "execution_count": 257
        }
      ]
    },
    {
      "cell_type": "markdown",
      "source": [
        "Ulazne karakteristike"
      ],
      "metadata": {
        "id": "5JnH_dy7L6UQ"
      }
    },
    {
      "cell_type": "code",
      "source": [
        "x = lung_data.iloc[:,0:-1]\n",
        "print(x)"
      ],
      "metadata": {
        "colab": {
          "base_uri": "https://localhost:8080/"
        },
        "id": "Zjp6C83nfERG",
        "outputId": "a327fa4f-ffc5-47dc-a8a9-4745b5827803"
      },
      "execution_count": null,
      "outputs": [
        {
          "output_type": "stream",
          "name": "stdout",
          "text": [
            "     Age  Gender  Air Pollution  Alcohol use  Dust Allergy  \\\n",
            "0     33       1              2            4             5   \n",
            "1     17       1              3            1             5   \n",
            "2     35       1              4            5             6   \n",
            "3     37       1              7            7             7   \n",
            "4     46       1              6            8             7   \n",
            "..   ...     ...            ...          ...           ...   \n",
            "995   44       1              6            7             7   \n",
            "996   37       2              6            8             7   \n",
            "997   25       2              4            5             6   \n",
            "998   18       2              6            8             7   \n",
            "999   47       1              6            5             6   \n",
            "\n",
            "     OccuPational Hazards  Genetic Risk  chronic Lung Disease  Balanced Diet  \\\n",
            "0                       4             3                     2              2   \n",
            "1                       3             4                     2              2   \n",
            "2                       5             5                     4              6   \n",
            "3                       7             6                     7              7   \n",
            "4                       7             7                     6              7   \n",
            "..                    ...           ...                   ...            ...   \n",
            "995                     7             7                     6              7   \n",
            "996                     7             7                     6              7   \n",
            "997                     5             5                     4              6   \n",
            "998                     7             7                     6              7   \n",
            "999                     5             5                     4              6   \n",
            "\n",
            "     Obesity  ...  Coughing of Blood  Fatigue  Weight Loss  \\\n",
            "0          4  ...                  4        3            4   \n",
            "1          2  ...                  3        1            3   \n",
            "2          7  ...                  8        8            7   \n",
            "3          7  ...                  8        4            2   \n",
            "4          7  ...                  9        3            2   \n",
            "..       ...  ...                ...      ...          ...   \n",
            "995        7  ...                  7        5            3   \n",
            "996        7  ...                  7        9            6   \n",
            "997        7  ...                  8        8            7   \n",
            "998        7  ...                  9        3            2   \n",
            "999        7  ...                  8        8            7   \n",
            "\n",
            "     Shortness of Breath  Wheezing  Swallowing Difficulty  \\\n",
            "0                      2         2                      3   \n",
            "1                      7         8                      6   \n",
            "2                      9         2                      1   \n",
            "3                      3         1                      4   \n",
            "4                      4         1                      4   \n",
            "..                   ...       ...                    ...   \n",
            "995                    2         7                      8   \n",
            "996                    5         7                      2   \n",
            "997                    9         2                      1   \n",
            "998                    4         1                      4   \n",
            "999                    9         2                      1   \n",
            "\n",
            "     Clubbing of Finger Nails  Frequent Cold  Dry Cough  Snoring  \n",
            "0                           1              2          3        4  \n",
            "1                           2              1          7        2  \n",
            "2                           4              6          7        2  \n",
            "3                           5              6          7        5  \n",
            "4                           2              4          2        3  \n",
            "..                        ...            ...        ...      ...  \n",
            "995                         2              4          5        3  \n",
            "996                         4              3          1        4  \n",
            "997                         4              6          7        2  \n",
            "998                         2              4          2        3  \n",
            "999                         4              6          7        2  \n",
            "\n",
            "[1000 rows x 23 columns]\n"
          ]
        }
      ]
    },
    {
      "cell_type": "markdown",
      "source": [
        "Podešavanje vrednosti u ciljnoj koloni"
      ],
      "metadata": {
        "id": "UWipxR5zL-OK"
      }
    },
    {
      "cell_type": "code",
      "source": [
        "lung_data['Level'] = lung_data['Level'].map({\"Low\": 0, \"Medium\": 1, \"High\": 2})"
      ],
      "metadata": {
        "id": "iKZI_TxvfEjj"
      },
      "execution_count": null,
      "outputs": []
    },
    {
      "cell_type": "markdown",
      "source": [
        "Ciljna kolona"
      ],
      "metadata": {
        "id": "ZdxocR8-MBag"
      }
    },
    {
      "cell_type": "code",
      "source": [
        "y = lung_data. iloc[:,-1:]\n",
        "print(y)"
      ],
      "metadata": {
        "colab": {
          "base_uri": "https://localhost:8080/"
        },
        "id": "gS9FydX1fREX",
        "outputId": "dfdd37fe-8dbd-4534-daf5-60b7a62e5ed2"
      },
      "execution_count": null,
      "outputs": [
        {
          "output_type": "stream",
          "name": "stdout",
          "text": [
            "     Level\n",
            "0        0\n",
            "1        1\n",
            "2        2\n",
            "3        2\n",
            "4        2\n",
            "..     ...\n",
            "995      2\n",
            "996      2\n",
            "997      2\n",
            "998      2\n",
            "999      2\n",
            "\n",
            "[1000 rows x 1 columns]\n"
          ]
        }
      ]
    },
    {
      "cell_type": "markdown",
      "source": [
        "Broj instanci za svaku vrednost u koloni Level"
      ],
      "metadata": {
        "id": "Q7lc9WRzMXTY"
      }
    },
    {
      "cell_type": "code",
      "source": [
        "lung_data['Level'].value_counts()"
      ],
      "metadata": {
        "colab": {
          "base_uri": "https://localhost:8080/"
        },
        "id": "caYw2fKefX-J",
        "outputId": "d7edcba5-09b5-4f9c-bd54-9e3a5cfb463c"
      },
      "execution_count": null,
      "outputs": [
        {
          "output_type": "execute_result",
          "data": {
            "text/plain": [
              "2    365\n",
              "1    332\n",
              "0    303\n",
              "Name: Level, dtype: int64"
            ]
          },
          "metadata": {},
          "execution_count": 261
        }
      ]
    },
    {
      "cell_type": "markdown",
      "source": [
        "Podela na trening i test skup i standardizacija"
      ],
      "metadata": {
        "id": "hhEB0Yn6MiNu"
      }
    },
    {
      "cell_type": "code",
      "source": [
        "x_train, x_test, y_train, y_test = train_test_split(x, y.values.ravel(), test_size=0.1, random_state=10, stratify=y)\n",
        "\n",
        "scaler = StandardScaler()\n",
        "x_train_scaled = scaler.fit_transform(x_train)\n",
        "x_test_scaled = scaler.transform(x_test)"
      ],
      "metadata": {
        "id": "e3dJHaw1fYAf"
      },
      "execution_count": null,
      "outputs": []
    },
    {
      "cell_type": "markdown",
      "source": [
        "Provera trening i test skupa"
      ],
      "metadata": {
        "id": "zPJvGShkMqzV"
      }
    },
    {
      "cell_type": "code",
      "source": [
        "len(x_train)"
      ],
      "metadata": {
        "colab": {
          "base_uri": "https://localhost:8080/"
        },
        "id": "hzTJcqzAfX3i",
        "outputId": "c8b4bd49-a8af-4e3f-ce02-33cb218d16fb"
      },
      "execution_count": null,
      "outputs": [
        {
          "output_type": "execute_result",
          "data": {
            "text/plain": [
              "900"
            ]
          },
          "metadata": {},
          "execution_count": 263
        }
      ]
    },
    {
      "cell_type": "code",
      "source": [
        "len(x_test)"
      ],
      "metadata": {
        "colab": {
          "base_uri": "https://localhost:8080/"
        },
        "id": "jUgSM0-OfX5s",
        "outputId": "9ceb1d4f-ccd0-4058-91c1-82f5448fd541"
      },
      "execution_count": null,
      "outputs": [
        {
          "output_type": "execute_result",
          "data": {
            "text/plain": [
              "100"
            ]
          },
          "metadata": {},
          "execution_count": 264
        }
      ]
    },
    {
      "cell_type": "markdown",
      "source": [
        "Optimizacija hiperparametara (Grid Search)\n",
        "\n",
        "> Logistička regresija\n",
        "\n",
        "> KNN\n",
        "\n",
        "> Naivni Bajes\n"
      ],
      "metadata": {
        "id": "wGo2nhMrMzTF"
      }
    },
    {
      "cell_type": "code",
      "source": [
        "param_grid_logistic = {\n",
        "    'C': [0.001, 0.01, 0.1, 1, 10, 100],\n",
        "    'penalty': ['l2']\n",
        "}\n",
        "\n",
        "grid_search_logistic = GridSearchCV(LogisticRegression(), param_grid_logistic, cv=5, scoring='accuracy')\n",
        "grid_search_logistic.fit(x_train_scaled, y_train)\n",
        "best_params_logistic = grid_search_logistic.best_params_\n",
        "best_accuracy_logistic = grid_search_logistic.best_score_"
      ],
      "metadata": {
        "id": "vKEUtgAX2nf5"
      },
      "execution_count": null,
      "outputs": []
    },
    {
      "cell_type": "code",
      "source": [
        "param_grid_knn = {\n",
        "    'n_neighbors': [3, 5, 7, 10],\n",
        "    'weights': ['uniform', 'distance'],\n",
        "    'metric': ['euclidean', 'manhattan']\n",
        "}\n",
        "grid_search_knn = GridSearchCV(KNeighborsClassifier(), param_grid_knn, cv=5, scoring='accuracy')\n",
        "grid_search_knn.fit(x_train_scaled, y_train)\n",
        "best_params_knn = grid_search_knn.best_params_\n",
        "best_accuracy_knn = grid_search_knn.best_score_"
      ],
      "metadata": {
        "id": "e9kDMwQr2nTX"
      },
      "execution_count": null,
      "outputs": []
    },
    {
      "cell_type": "code",
      "source": [
        "nb_classifier = GaussianNB()\n",
        "nb_classifier.fit(x_train_scaled, y_train)"
      ],
      "metadata": {
        "colab": {
          "base_uri": "https://localhost:8080/",
          "height": 75
        },
        "id": "wdIK-cum2nKi",
        "outputId": "cf508cce-8f04-44fa-8726-f554d1d02505"
      },
      "execution_count": null,
      "outputs": [
        {
          "output_type": "execute_result",
          "data": {
            "text/plain": [
              "GaussianNB()"
            ],
            "text/html": [
              "<style>#sk-container-id-12 {color: black;background-color: white;}#sk-container-id-12 pre{padding: 0;}#sk-container-id-12 div.sk-toggleable {background-color: white;}#sk-container-id-12 label.sk-toggleable__label {cursor: pointer;display: block;width: 100%;margin-bottom: 0;padding: 0.3em;box-sizing: border-box;text-align: center;}#sk-container-id-12 label.sk-toggleable__label-arrow:before {content: \"▸\";float: left;margin-right: 0.25em;color: #696969;}#sk-container-id-12 label.sk-toggleable__label-arrow:hover:before {color: black;}#sk-container-id-12 div.sk-estimator:hover label.sk-toggleable__label-arrow:before {color: black;}#sk-container-id-12 div.sk-toggleable__content {max-height: 0;max-width: 0;overflow: hidden;text-align: left;background-color: #f0f8ff;}#sk-container-id-12 div.sk-toggleable__content pre {margin: 0.2em;color: black;border-radius: 0.25em;background-color: #f0f8ff;}#sk-container-id-12 input.sk-toggleable__control:checked~div.sk-toggleable__content {max-height: 200px;max-width: 100%;overflow: auto;}#sk-container-id-12 input.sk-toggleable__control:checked~label.sk-toggleable__label-arrow:before {content: \"▾\";}#sk-container-id-12 div.sk-estimator input.sk-toggleable__control:checked~label.sk-toggleable__label {background-color: #d4ebff;}#sk-container-id-12 div.sk-label input.sk-toggleable__control:checked~label.sk-toggleable__label {background-color: #d4ebff;}#sk-container-id-12 input.sk-hidden--visually {border: 0;clip: rect(1px 1px 1px 1px);clip: rect(1px, 1px, 1px, 1px);height: 1px;margin: -1px;overflow: hidden;padding: 0;position: absolute;width: 1px;}#sk-container-id-12 div.sk-estimator {font-family: monospace;background-color: #f0f8ff;border: 1px dotted black;border-radius: 0.25em;box-sizing: border-box;margin-bottom: 0.5em;}#sk-container-id-12 div.sk-estimator:hover {background-color: #d4ebff;}#sk-container-id-12 div.sk-parallel-item::after {content: \"\";width: 100%;border-bottom: 1px solid gray;flex-grow: 1;}#sk-container-id-12 div.sk-label:hover label.sk-toggleable__label {background-color: #d4ebff;}#sk-container-id-12 div.sk-serial::before {content: \"\";position: absolute;border-left: 1px solid gray;box-sizing: border-box;top: 0;bottom: 0;left: 50%;z-index: 0;}#sk-container-id-12 div.sk-serial {display: flex;flex-direction: column;align-items: center;background-color: white;padding-right: 0.2em;padding-left: 0.2em;position: relative;}#sk-container-id-12 div.sk-item {position: relative;z-index: 1;}#sk-container-id-12 div.sk-parallel {display: flex;align-items: stretch;justify-content: center;background-color: white;position: relative;}#sk-container-id-12 div.sk-item::before, #sk-container-id-12 div.sk-parallel-item::before {content: \"\";position: absolute;border-left: 1px solid gray;box-sizing: border-box;top: 0;bottom: 0;left: 50%;z-index: -1;}#sk-container-id-12 div.sk-parallel-item {display: flex;flex-direction: column;z-index: 1;position: relative;background-color: white;}#sk-container-id-12 div.sk-parallel-item:first-child::after {align-self: flex-end;width: 50%;}#sk-container-id-12 div.sk-parallel-item:last-child::after {align-self: flex-start;width: 50%;}#sk-container-id-12 div.sk-parallel-item:only-child::after {width: 0;}#sk-container-id-12 div.sk-dashed-wrapped {border: 1px dashed gray;margin: 0 0.4em 0.5em 0.4em;box-sizing: border-box;padding-bottom: 0.4em;background-color: white;}#sk-container-id-12 div.sk-label label {font-family: monospace;font-weight: bold;display: inline-block;line-height: 1.2em;}#sk-container-id-12 div.sk-label-container {text-align: center;}#sk-container-id-12 div.sk-container {/* jupyter's `normalize.less` sets `[hidden] { display: none; }` but bootstrap.min.css set `[hidden] { display: none !important; }` so we also need the `!important` here to be able to override the default hidden behavior on the sphinx rendered scikit-learn.org. See: https://github.com/scikit-learn/scikit-learn/issues/21755 */display: inline-block !important;position: relative;}#sk-container-id-12 div.sk-text-repr-fallback {display: none;}</style><div id=\"sk-container-id-12\" class=\"sk-top-container\"><div class=\"sk-text-repr-fallback\"><pre>GaussianNB()</pre><b>In a Jupyter environment, please rerun this cell to show the HTML representation or trust the notebook. <br />On GitHub, the HTML representation is unable to render, please try loading this page with nbviewer.org.</b></div><div class=\"sk-container\" hidden><div class=\"sk-item\"><div class=\"sk-estimator sk-toggleable\"><input class=\"sk-toggleable__control sk-hidden--visually\" id=\"sk-estimator-id-12\" type=\"checkbox\" checked><label for=\"sk-estimator-id-12\" class=\"sk-toggleable__label sk-toggleable__label-arrow\">GaussianNB</label><div class=\"sk-toggleable__content\"><pre>GaussianNB()</pre></div></div></div></div></div>"
            ]
          },
          "metadata": {},
          "execution_count": 267
        }
      ]
    },
    {
      "cell_type": "markdown",
      "source": [
        "Predikcije\n",
        "\n",
        ">Logistička regresija\n",
        "\n",
        "> KNN\n",
        "\n",
        "> Naivni Bajes\n"
      ],
      "metadata": {
        "id": "HhFnzZaZNMxB"
      }
    },
    {
      "cell_type": "code",
      "source": [
        "prediction_logistic = grid_search_logistic.predict(x_test_scaled)\n",
        "prediction_knn = grid_search_knn.predict(x_test_scaled)\n",
        "prediction_nb = nb_classifier.predict(x_test_scaled)\n",
        "\n",
        "print(\"Predikcije za Logističku regresiju:\")\n",
        "print(prediction_logistic)\n",
        "print(\"\\nPredikcije za KNN:\")\n",
        "print(prediction_knn)\n",
        "print(\"\\nPredikcije za Naivnog Bayesa:\")\n",
        "print(prediction_nb)\n"
      ],
      "metadata": {
        "id": "W1Qs5udz2m_t",
        "colab": {
          "base_uri": "https://localhost:8080/"
        },
        "outputId": "93ca87db-fd1a-416f-df91-9d391e4399d2"
      },
      "execution_count": null,
      "outputs": [
        {
          "output_type": "stream",
          "name": "stdout",
          "text": [
            "Predikcije za Logističku regresiju:\n",
            "[0 1 2 2 2 1 1 0 0 2 1 2 2 0 1 1 2 0 1 0 2 1 2 1 2 2 2 1 2 2 0 2 0 1 2 2 1\n",
            " 1 2 1 2 2 1 1 0 2 0 0 2 1 2 2 0 2 0 2 2 2 0 0 0 0 1 2 1 0 2 1 0 0 1 2 1 0\n",
            " 2 0 0 0 2 0 0 0 1 0 1 1 0 1 0 1 2 1 1 1 2 2 2 1 1 1]\n",
            "\n",
            "Predikcije za KNN:\n",
            "[0 1 2 2 2 1 1 0 0 2 1 2 2 0 1 1 2 0 1 0 2 1 2 1 2 2 2 1 2 2 0 2 0 1 2 2 1\n",
            " 1 2 1 2 2 1 1 0 2 0 0 2 1 2 2 0 2 0 2 2 2 0 0 0 0 1 2 1 0 2 1 0 0 1 2 1 0\n",
            " 2 0 0 0 2 0 0 0 1 0 1 1 0 1 0 1 2 1 1 1 2 2 2 1 1 1]\n",
            "\n",
            "Predikcije za Naivnog Bayesa:\n",
            "[1 1 2 2 2 1 1 0 0 2 2 2 2 0 1 2 2 0 1 0 2 1 2 1 2 2 1 1 2 2 0 2 0 1 2 2 2\n",
            " 1 2 1 2 2 2 1 0 2 1 1 2 2 2 2 0 2 0 2 2 2 0 0 0 0 1 2 1 1 2 1 0 0 1 2 1 0\n",
            " 2 0 0 0 2 0 0 0 1 0 1 1 0 1 0 1 1 1 1 1 2 2 2 1 1 1]\n"
          ]
        }
      ]
    },
    {
      "cell_type": "markdown",
      "source": [
        "Ispis najboljih parametara\n",
        "\n",
        "> Logistička regresija\n",
        "> KNN"
      ],
      "metadata": {
        "id": "O9VeeH7JNgr9"
      }
    },
    {
      "cell_type": "code",
      "source": [
        "print(\"Najbolji parametri za Logističku regresiju:\")\n",
        "print(grid_search_logistic.best_params_)\n",
        "\n",
        "print(\"\\nNajbolji parametri za K-najbliže susede:\")\n",
        "print(grid_search_knn.best_params_)\n"
      ],
      "metadata": {
        "colab": {
          "base_uri": "https://localhost:8080/"
        },
        "id": "dwrrLVHGKRBT",
        "outputId": "4bf22487-fbfc-4fce-be77-11e71b2ed285"
      },
      "execution_count": null,
      "outputs": [
        {
          "output_type": "stream",
          "name": "stdout",
          "text": [
            "Najbolji parametri za Logističku regresiju:\n",
            "{'C': 1, 'penalty': 'l2'}\n",
            "\n",
            "Najbolji parametri za K-najbliže susede:\n",
            "{'metric': 'euclidean', 'n_neighbors': 3, 'weights': 'uniform'}\n"
          ]
        }
      ]
    },
    {
      "cell_type": "markdown",
      "source": [
        "Metrike\n",
        "\n",
        "\n",
        "> Logistička regresija\n",
        "\n",
        "> KNN\n",
        "\n",
        "> Naivni Bajes\n",
        "\n",
        "\n",
        "\n",
        "\n",
        "\n"
      ],
      "metadata": {
        "id": "TvYxO1xaNsDr"
      }
    },
    {
      "cell_type": "code",
      "source": [
        "accuracy_logistic = accuracy_score(y_test, prediction_logistic)\n",
        "precision_logistic = precision_score(y_test, prediction_logistic, average='weighted')\n",
        "recall_logistic = recall_score(y_test, prediction_logistic, average='weighted')\n",
        "f1_logistic = f1_score(y_test, prediction_logistic, average='weighted')"
      ],
      "metadata": {
        "id": "XQvk2GzRfX0h"
      },
      "execution_count": null,
      "outputs": []
    },
    {
      "cell_type": "code",
      "source": [
        "accuracy_knn = accuracy_score(y_test, prediction_knn)\n",
        "precision_knn = precision_score(y_test, prediction_knn, average='weighted')\n",
        "recall_knn = recall_score(y_test, prediction_knn, average='weighted')\n",
        "f1_knn = f1_score(y_test, prediction_knn, average='weighted')"
      ],
      "metadata": {
        "id": "Vd8Ivq0RfXyQ"
      },
      "execution_count": null,
      "outputs": []
    },
    {
      "cell_type": "code",
      "source": [
        "accuracy_nb = accuracy_score(y_test, prediction_nb)\n",
        "precision_nb = precision_score(y_test, prediction_nb, average='weighted')\n",
        "recall_nb = recall_score(y_test, prediction_nb, average='weighted')\n",
        "f1_nb = f1_score(y_test, prediction_nb, average='weighted')"
      ],
      "metadata": {
        "id": "g3HZgu2afXwN"
      },
      "execution_count": null,
      "outputs": []
    },
    {
      "cell_type": "code",
      "source": [
        "print(\"Metrike za Logističku regresiju:\")\n",
        "print(\"Accuracy:\", accuracy_logistic)\n",
        "print(\"Precision:\", precision_logistic)\n",
        "print(\"Recall:\", recall_logistic)\n",
        "print(\"F1 score:\", f1_logistic)"
      ],
      "metadata": {
        "colab": {
          "base_uri": "https://localhost:8080/"
        },
        "id": "kg7X_lQYfXt-",
        "outputId": "f5b32ab5-0bec-479f-b4cf-968906993079"
      },
      "execution_count": null,
      "outputs": [
        {
          "output_type": "stream",
          "name": "stdout",
          "text": [
            "Metrike za Logističku regresiju:\n",
            "Accuracy: 1.0\n",
            "Precision: 1.0\n",
            "Recall: 1.0\n",
            "F1 score: 1.0\n"
          ]
        }
      ]
    },
    {
      "cell_type": "code",
      "source": [
        "print(\"\\nMetrike za KNN:\")\n",
        "print(\"Accuracy:\", accuracy_knn)\n",
        "print(\"Precision:\", precision_knn)\n",
        "print(\"Recall:\", recall_knn)\n",
        "print(\"F1 score:\", f1_knn)"
      ],
      "metadata": {
        "colab": {
          "base_uri": "https://localhost:8080/"
        },
        "id": "BNk4-FKBfXrk",
        "outputId": "7bdcbee3-7f92-40c0-cc0a-59eece0f2adf"
      },
      "execution_count": null,
      "outputs": [
        {
          "output_type": "stream",
          "name": "stdout",
          "text": [
            "\n",
            "Metrike za KNN:\n",
            "Accuracy: 1.0\n",
            "Precision: 1.0\n",
            "Recall: 1.0\n",
            "F1 score: 1.0\n"
          ]
        }
      ]
    },
    {
      "cell_type": "code",
      "source": [
        "print(\"\\nMetrike za Naivnog Bajesa:\")\n",
        "print(\"Accuracy:\", accuracy_nb)\n",
        "print(\"Precision:\", precision_nb)\n",
        "print(\"Recall:\", recall_nb)\n",
        "print(\"F1 score:\", f1_nb)"
      ],
      "metadata": {
        "colab": {
          "base_uri": "https://localhost:8080/"
        },
        "id": "eOvT1NLLfXpI",
        "outputId": "333c48b2-385b-4a49-b9f0-afa2eaa7b7f6"
      },
      "execution_count": null,
      "outputs": [
        {
          "output_type": "stream",
          "name": "stdout",
          "text": [
            "\n",
            "Metrike za Naivnog Bajesa:\n",
            "Accuracy: 0.89\n",
            "Precision: 0.8955147058823529\n",
            "Recall: 0.89\n",
            "F1 score: 0.890755960457453\n"
          ]
        }
      ]
    },
    {
      "cell_type": "markdown",
      "source": [
        "Matrice konfuzije\n",
        "\n",
        "\n",
        "> Logistička regresija\n",
        "\n",
        "> KNN\n",
        "\n",
        "> Naivni Bajes\n",
        "\n",
        "\n",
        "\n",
        "\n",
        "\n"
      ],
      "metadata": {
        "id": "nBG7YCFLOBQX"
      }
    },
    {
      "cell_type": "code",
      "source": [
        "def plot_confusion_matrix(y_true, y_pred, title):\n",
        "    cm = confusion_matrix(y_true, y_pred)\n",
        "    sns.heatmap(cm, annot=True, cmap=\"Blues\", fmt=\"d\")\n",
        "    plt.xlabel(\"Predicted Labels\")\n",
        "    plt.ylabel(\"True Labels\")\n",
        "    plt.title(title)\n",
        "    plt.show()"
      ],
      "metadata": {
        "id": "P7iDdwNYfXIk"
      },
      "execution_count": null,
      "outputs": []
    },
    {
      "cell_type": "code",
      "source": [
        "plot_confusion_matrix(y_test, prediction_logistic, \"Matrica konfuzije za Logističku regresiju\")\n"
      ],
      "metadata": {
        "colab": {
          "base_uri": "https://localhost:8080/",
          "height": 472
        },
        "id": "3UiTwwCvhurj",
        "outputId": "89d97dd1-0b4d-453d-93d9-b863c602f8d2"
      },
      "execution_count": null,
      "outputs": [
        {
          "output_type": "display_data",
          "data": {
            "text/plain": [
              "<Figure size 640x480 with 2 Axes>"
            ],
            "image/png": "[encoded data removed]"
          },
          "metadata": {}
        }
      ]
    },
    {
      "cell_type": "markdown",
      "source": [
        "KNN"
      ],
      "metadata": {
        "id": "iA036-NbcY33"
      }
    },
    {
      "cell_type": "code",
      "source": [
        "plot_confusion_matrix(y_test, prediction_knn, \"Matrica konfuzije za KNN\")"
      ],
      "metadata": {
        "colab": {
          "base_uri": "https://localhost:8080/",
          "height": 472
        },
        "id": "wnvo4VHChuop",
        "outputId": "a5004ed3-2756-4c69-dd54-7319db118641"
      },
      "execution_count": null,
      "outputs": [
        {
          "output_type": "display_data",
          "data": {
            "text/plain": [
              "<Figure size 640x480 with 2 Axes>"
            ],
            "image/png": "[encoded data removed]"
          },
          "metadata": {}
        }
      ]
    },
    {
      "cell_type": "code",
      "source": [
        "plot_confusion_matrix(y_test, prediction_nb, \"Matrica konfuzije za Naivnog Bajesa\")"
      ],
      "metadata": {
        "colab": {
          "base_uri": "https://localhost:8080/",
          "height": 472
        },
        "id": "VOgmcc8vhukX",
        "outputId": "9f39b1df-80fd-4201-f6b5-cdce24017e9b"
      },
      "execution_count": null,
      "outputs": [
        {
          "output_type": "display_data",
          "data": {
            "text/plain": [
              "<Figure size 640x480 with 2 Axes>"
            ],
            "image/png": "[encoded data removed]"
          },
          "metadata": {}
        }
      ]
    },
    {
      "cell_type": "markdown",
      "source": [
        "Poređenje tačnosti modela\n",
        "\n",
        "\n",
        "> Logistička regresija\n",
        "\n",
        "> KNN\n",
        "\n",
        "> Naivni Bajes\n",
        "\n",
        "\n",
        "\n",
        "\n",
        "\n"
      ],
      "metadata": {
        "id": "WzA1e6j6ONJ1"
      }
    },
    {
      "cell_type": "code",
      "source": [
        "accuracies = [accuracy_logistic, accuracy_knn, accuracy_nb]\n",
        "models = ['Logistička regresija', 'KNN', 'Naivni Bajes']\n",
        "\n",
        "\n",
        "plt.figure(figsize=(10, 6))\n",
        "plt.bar(models, accuracies, color=['blue', 'green', 'orange'])\n",
        "plt.title('Poređenje tačnosti modela')\n",
        "plt.xlabel('Model')\n",
        "plt.ylabel('Tačnost')\n",
        "plt.ylim(0.0, 1.0)\n",
        "plt.show()"
      ],
      "metadata": {
        "colab": {
          "base_uri": "https://localhost:8080/",
          "height": 565
        },
        "id": "FnxusXfml338",
        "outputId": "6d52c517-85b0-4199-9d9a-be0f24848cda"
      },
      "execution_count": null,
      "outputs": [
        {
          "output_type": "display_data",
          "data": {
            "text/plain": [
              "<Figure size 1000x600 with 1 Axes>"
            ],
            "image/png": "[encoded data removed]"
          },
          "metadata": {}
        }
      ]
    },
    {
      "cell_type": "markdown",
      "source": [
        "#**PCA**\n",
        "\n",
        "---\n",
        "\n",
        "\n",
        "*Principal Component Analysis*"
      ],
      "metadata": {
        "id": "oi7yNNpCOj4E"
      }
    },
    {
      "cell_type": "code",
      "source": [
        "import pandas as pd\n",
        "import matplotlib.pyplot as plt\n",
        "from sklearn.model_selection import train_test_split, GridSearchCV\n",
        "from sklearn.preprocessing import StandardScaler\n",
        "from sklearn.decomposition import PCA\n",
        "from sklearn.linear_model import LogisticRegression\n",
        "from sklearn.neighbors import KNeighborsClassifier\n",
        "from sklearn.naive_bayes import GaussianNB\n",
        "from sklearn.metrics import confusion_matrix, accuracy_score, precision_score, recall_score, f1_score\n",
        "import seaborn as sns"
      ],
      "metadata": {
        "id": "qElxCackewsc"
      },
      "execution_count": null,
      "outputs": []
    },
    {
      "cell_type": "markdown",
      "source": [
        "Podela podataka na trening i test skup i standardizacija podataka"
      ],
      "metadata": {
        "id": "AoRRm8pJPG_9"
      }
    },
    {
      "cell_type": "code",
      "source": [
        "x_train, x_test, y_train, y_test = train_test_split(x, y.values.ravel(), test_size=0.1, random_state=10)\n",
        "\n",
        "scaler = StandardScaler()\n",
        "x_train_scaled = scaler.fit_transform(x_train)\n",
        "x_test_scaled = scaler.transform(x_test)"
      ],
      "metadata": {
        "id": "g5aCli7D5Dk6"
      },
      "execution_count": null,
      "outputs": []
    },
    {
      "cell_type": "markdown",
      "source": [
        "Primena PCA za smanjenje dimenzionalnosti podataka"
      ],
      "metadata": {
        "id": "IrXJG5EzPRz8"
      }
    },
    {
      "cell_type": "code",
      "source": [
        "pca = PCA(n_components=0.95)\n",
        "x_train_pca = pca.fit_transform(x_train_scaled)\n",
        "x_test_pca = pca.transform(x_test_scaled)"
      ],
      "metadata": {
        "id": "osCHUgHJdQxF"
      },
      "execution_count": null,
      "outputs": []
    },
    {
      "cell_type": "markdown",
      "source": [
        "Optimizacija hiperparametara modela korišćenjem GridSearchCV\n",
        "\n",
        "> Logistička regresija\n",
        "\n",
        "> KNN\n",
        "\n",
        "\n",
        "\n"
      ],
      "metadata": {
        "id": "qT0dQIupPgE4"
      }
    },
    {
      "cell_type": "code",
      "source": [
        "param_grid_logistic = {\n",
        "    'C': [0.001, 0.01, 0.1, 1, 10, 100],\n",
        "    'penalty': ['l2']\n",
        "}\n",
        "\n",
        "grid_search_logistic = GridSearchCV(LogisticRegression(), param_grid_logistic, cv=5, scoring='accuracy')\n",
        "grid_search_logistic.fit(x_train_pca, y_train)\n",
        "best_params_logistic = grid_search_logistic.best_params_\n",
        "best_accuracy_logistic = grid_search_logistic.best_score_"
      ],
      "metadata": {
        "id": "uK-Tddgf4Gmf"
      },
      "execution_count": null,
      "outputs": []
    },
    {
      "cell_type": "code",
      "source": [
        "param_grid_knn = {\n",
        "    'n_neighbors': [3, 5, 7, 10],\n",
        "    'weights': ['uniform', 'distance'],\n",
        "    'metric': ['euclidean', 'manhattan']\n",
        "}\n",
        "grid_search_knn = GridSearchCV(KNeighborsClassifier(), param_grid_knn, cv=5, scoring='accuracy')\n",
        "grid_search_knn.fit(x_train_pca, y_train)\n",
        "best_params_knn = grid_search_knn.best_params_\n",
        "best_accuracy_knn = grid_search_knn.best_score_"
      ],
      "metadata": {
        "id": "Bcod6J-c4GiU"
      },
      "execution_count": null,
      "outputs": []
    },
    {
      "cell_type": "markdown",
      "source": [
        "Inicijalizacija modela za Naivnog Bajesa"
      ],
      "metadata": {
        "id": "JydjRNhPPkn7"
      }
    },
    {
      "cell_type": "code",
      "source": [
        "nb_classifier = GaussianNB()\n",
        "nb_classifier.fit(x_train_pca, y_train)"
      ],
      "metadata": {
        "colab": {
          "base_uri": "https://localhost:8080/",
          "height": 75
        },
        "id": "AE1jbyDm4GdQ",
        "outputId": "3de74b35-e44b-429a-c73d-2a2491321a4e"
      },
      "execution_count": null,
      "outputs": [
        {
          "output_type": "execute_result",
          "data": {
            "text/plain": [
              "GaussianNB()"
            ],
            "text/html": [
              "<style>#sk-container-id-13 {color: black;background-color: white;}#sk-container-id-13 pre{padding: 0;}#sk-container-id-13 div.sk-toggleable {background-color: white;}#sk-container-id-13 label.sk-toggleable__label {cursor: pointer;display: block;width: 100%;margin-bottom: 0;padding: 0.3em;box-sizing: border-box;text-align: center;}#sk-container-id-13 label.sk-toggleable__label-arrow:before {content: \"▸\";float: left;margin-right: 0.25em;color: #696969;}#sk-container-id-13 label.sk-toggleable__label-arrow:hover:before {color: black;}#sk-container-id-13 div.sk-estimator:hover label.sk-toggleable__label-arrow:before {color: black;}#sk-container-id-13 div.sk-toggleable__content {max-height: 0;max-width: 0;overflow: hidden;text-align: left;background-color: #f0f8ff;}#sk-container-id-13 div.sk-toggleable__content pre {margin: 0.2em;color: black;border-radius: 0.25em;background-color: #f0f8ff;}#sk-container-id-13 input.sk-toggleable__control:checked~div.sk-toggleable__content {max-height: 200px;max-width: 100%;overflow: auto;}#sk-container-id-13 input.sk-toggleable__control:checked~label.sk-toggleable__label-arrow:before {content: \"▾\";}#sk-container-id-13 div.sk-estimator input.sk-toggleable__control:checked~label.sk-toggleable__label {background-color: #d4ebff;}#sk-container-id-13 div.sk-label input.sk-toggleable__control:checked~label.sk-toggleable__label {background-color: #d4ebff;}#sk-container-id-13 input.sk-hidden--visually {border: 0;clip: rect(1px 1px 1px 1px);clip: rect(1px, 1px, 1px, 1px);height: 1px;margin: -1px;overflow: hidden;padding: 0;position: absolute;width: 1px;}#sk-container-id-13 div.sk-estimator {font-family: monospace;background-color: #f0f8ff;border: 1px dotted black;border-radius: 0.25em;box-sizing: border-box;margin-bottom: 0.5em;}#sk-container-id-13 div.sk-estimator:hover {background-color: #d4ebff;}#sk-container-id-13 div.sk-parallel-item::after {content: \"\";width: 100%;border-bottom: 1px solid gray;flex-grow: 1;}#sk-container-id-13 div.sk-label:hover label.sk-toggleable__label {background-color: #d4ebff;}#sk-container-id-13 div.sk-serial::before {content: \"\";position: absolute;border-left: 1px solid gray;box-sizing: border-box;top: 0;bottom: 0;left: 50%;z-index: 0;}#sk-container-id-13 div.sk-serial {display: flex;flex-direction: column;align-items: center;background-color: white;padding-right: 0.2em;padding-left: 0.2em;position: relative;}#sk-container-id-13 div.sk-item {position: relative;z-index: 1;}#sk-container-id-13 div.sk-parallel {display: flex;align-items: stretch;justify-content: center;background-color: white;position: relative;}#sk-container-id-13 div.sk-item::before, #sk-container-id-13 div.sk-parallel-item::before {content: \"\";position: absolute;border-left: 1px solid gray;box-sizing: border-box;top: 0;bottom: 0;left: 50%;z-index: -1;}#sk-container-id-13 div.sk-parallel-item {display: flex;flex-direction: column;z-index: 1;position: relative;background-color: white;}#sk-container-id-13 div.sk-parallel-item:first-child::after {align-self: flex-end;width: 50%;}#sk-container-id-13 div.sk-parallel-item:last-child::after {align-self: flex-start;width: 50%;}#sk-container-id-13 div.sk-parallel-item:only-child::after {width: 0;}#sk-container-id-13 div.sk-dashed-wrapped {border: 1px dashed gray;margin: 0 0.4em 0.5em 0.4em;box-sizing: border-box;padding-bottom: 0.4em;background-color: white;}#sk-container-id-13 div.sk-label label {font-family: monospace;font-weight: bold;display: inline-block;line-height: 1.2em;}#sk-container-id-13 div.sk-label-container {text-align: center;}#sk-container-id-13 div.sk-container {/* jupyter's `normalize.less` sets `[hidden] { display: none; }` but bootstrap.min.css set `[hidden] { display: none !important; }` so we also need the `!important` here to be able to override the default hidden behavior on the sphinx rendered scikit-learn.org. See: https://github.com/scikit-learn/scikit-learn/issues/21755 */display: inline-block !important;position: relative;}#sk-container-id-13 div.sk-text-repr-fallback {display: none;}</style><div id=\"sk-container-id-13\" class=\"sk-top-container\"><div class=\"sk-text-repr-fallback\"><pre>GaussianNB()</pre><b>In a Jupyter environment, please rerun this cell to show the HTML representation or trust the notebook. <br />On GitHub, the HTML representation is unable to render, please try loading this page with nbviewer.org.</b></div><div class=\"sk-container\" hidden><div class=\"sk-item\"><div class=\"sk-estimator sk-toggleable\"><input class=\"sk-toggleable__control sk-hidden--visually\" id=\"sk-estimator-id-13\" type=\"checkbox\" checked><label for=\"sk-estimator-id-13\" class=\"sk-toggleable__label sk-toggleable__label-arrow\">GaussianNB</label><div class=\"sk-toggleable__content\"><pre>GaussianNB()</pre></div></div></div></div></div>"
            ]
          },
          "metadata": {},
          "execution_count": 286
        }
      ]
    },
    {
      "cell_type": "markdown",
      "source": [
        "Predikcija modela\n",
        "\n",
        "\n",
        "> Logistička regresija\n",
        "\n",
        "> KNN\n",
        "\n",
        "> Naivni Bajes\n",
        "\n",
        "\n",
        "\n",
        "\n",
        "\n"
      ],
      "metadata": {
        "id": "8Lnh95uAPxXZ"
      }
    },
    {
      "cell_type": "code",
      "source": [
        "prediction_logistic = grid_search_logistic.predict(x_test_pca)\n",
        "prediction_knn = grid_search_knn.predict(x_test_pca)\n",
        "prediction_nb = nb_classifier.predict(x_test_pca)\n",
        "\n",
        "print(\"Predikcije za Logističku regresiju:\")\n",
        "print(prediction_logistic)\n",
        "print(\"\\nPredikcije za KNN:\")\n",
        "print(prediction_knn)\n",
        "print(\"\\nPredikcije za Naivnog Bayesa:\")\n",
        "print(prediction_nb)"
      ],
      "metadata": {
        "id": "3lJno8d_dQuD",
        "colab": {
          "base_uri": "https://localhost:8080/"
        },
        "outputId": "92d361e4-2483-4432-a8de-24ed99ce2c52"
      },
      "execution_count": null,
      "outputs": [
        {
          "output_type": "stream",
          "name": "stdout",
          "text": [
            "Predikcije za Logističku regresiju:\n",
            "[1 2 2 0 2 1 2 1 2 1 2 1 1 0 0 1 2 0 2 0 2 0 2 2 2 1 1 0 0 1 0 1 2 0 1 2 1\n",
            " 2 1 0 1 1 2 1 2 2 0 2 2 1 1 1 1 2 1 2 2 2 0 2 2 0 2 0 2 0 1 2 2 1 0 0 0 1\n",
            " 1 1 1 1 2 0 2 0 2 1 2 2 2 1 0 2 1 1 0 0 1 1 1 1 1 0]\n",
            "\n",
            "Predikcije za KNN:\n",
            "[1 2 2 0 2 1 2 1 2 1 2 1 1 0 0 1 2 0 2 0 2 0 2 2 2 1 1 0 0 1 0 1 2 0 1 2 1\n",
            " 2 1 0 1 1 2 1 2 2 0 2 2 1 1 1 1 2 1 2 2 2 0 2 2 0 2 0 2 0 1 2 2 1 0 0 0 1\n",
            " 1 1 1 1 2 0 2 0 2 1 2 2 2 1 0 2 1 1 0 0 1 1 1 1 1 0]\n",
            "\n",
            "Predikcije za Naivnog Bayesa:\n",
            "[1 2 2 0 2 1 2 0 2 1 2 1 1 0 0 1 2 1 2 0 2 0 2 2 2 1 0 0 0 1 0 1 2 0 1 2 1\n",
            " 2 1 0 1 1 2 1 2 2 0 2 2 1 1 1 1 2 1 2 2 2 0 2 2 0 2 0 2 0 1 2 2 1 0 0 0 1\n",
            " 1 1 1 1 2 0 2 0 2 1 2 2 2 1 0 2 1 1 0 0 1 1 1 1 1 0]\n"
          ]
        }
      ]
    },
    {
      "cell_type": "markdown",
      "source": [
        "Ispis najboljih parametara\n",
        "\n",
        "\n",
        "> Logistička regresija\n",
        "\n",
        "> KNN\n",
        "\n",
        "*Naivni Bajes nema hiperparametre*\n"
      ],
      "metadata": {
        "id": "WNET5JK4P9U5"
      }
    },
    {
      "cell_type": "code",
      "source": [
        "print(\"Najbolji parametri za Logističku regresiju:\")\n",
        "print(grid_search_logistic.best_params_)\n",
        "\n",
        "print(\"\\nNajbolji parametri za K-najbliže susede:\")\n",
        "print(grid_search_knn.best_params_)\n"
      ],
      "metadata": {
        "colab": {
          "base_uri": "https://localhost:8080/"
        },
        "id": "gO8GH1L1Ieaw",
        "outputId": "5019076b-c154-43a1-c20b-0b744a744879"
      },
      "execution_count": null,
      "outputs": [
        {
          "output_type": "stream",
          "name": "stdout",
          "text": [
            "Najbolji parametri za Logističku regresiju:\n",
            "{'C': 1, 'penalty': 'l2'}\n",
            "\n",
            "Najbolji parametri za K-najbliže susede:\n",
            "{'metric': 'euclidean', 'n_neighbors': 3, 'weights': 'uniform'}\n"
          ]
        }
      ]
    },
    {
      "cell_type": "markdown",
      "source": [
        "Metrike sa PCA\n",
        "\n",
        "\n",
        "> Logistička regresija\n",
        "\n",
        "\n",
        "> KNN\n",
        "\n",
        "\n",
        "\n",
        "> Naivni Bajes\n",
        "\n",
        "\n",
        "\n"
      ],
      "metadata": {
        "id": "LGK483J8QQcP"
      }
    },
    {
      "cell_type": "code",
      "source": [
        "accuracy_logistic_pca = accuracy_score(y_test, prediction_logistic)\n",
        "precision_logistic_pca = precision_score(y_test, prediction_logistic, average='weighted')\n",
        "recall_logistic_pca = recall_score(y_test, prediction_logistic, average='weighted')\n",
        "f1_logistic_pca = f1_score(y_test, prediction_logistic, average='weighted')\n",
        "\n",
        "print(\"Metrike za Logističku regresiju sa PCA:\")\n",
        "print(\"Accuracy:\", accuracy_logistic_pca)\n",
        "print(\"Precision:\", precision_logistic_pca)\n",
        "print(\"Recall:\", recall_logistic_pca)\n",
        "print(\"F1 score:\", f1_logistic_pca)\n"
      ],
      "metadata": {
        "colab": {
          "base_uri": "https://localhost:8080/"
        },
        "id": "I1giXupydQrJ",
        "outputId": "2f101953-ec20-474a-db46-f3ac9f4856ee"
      },
      "execution_count": null,
      "outputs": [
        {
          "output_type": "stream",
          "name": "stdout",
          "text": [
            "Metrike za Logističku regresiju sa PCA:\n",
            "Accuracy: 1.0\n",
            "Precision: 1.0\n",
            "Recall: 1.0\n",
            "F1 score: 1.0\n"
          ]
        }
      ]
    },
    {
      "cell_type": "code",
      "source": [
        "accuracy_knn_pca = accuracy_score(y_test, prediction_knn)\n",
        "precision_knn_pca = precision_score(y_test, prediction_knn, average='weighted')\n",
        "recall_knn_pca = recall_score(y_test, prediction_knn, average='weighted')\n",
        "f1_knn_pca = f1_score(y_test, prediction_knn, average='weighted')\n",
        "\n",
        "print(\"\\nMetrike za KNN sa PCA:\")\n",
        "print(\"Accuracy:\", accuracy_knn_pca)\n",
        "print(\"Precision:\", precision_knn_pca)\n",
        "print(\"Recall:\", recall_knn_pca)\n",
        "print(\"F1 score:\", f1_knn_pca)\n"
      ],
      "metadata": {
        "colab": {
          "base_uri": "https://localhost:8080/"
        },
        "id": "eObwXkLpdQoU",
        "outputId": "45bb2ad4-2c7e-4b78-d8ab-ff1d664652f5"
      },
      "execution_count": null,
      "outputs": [
        {
          "output_type": "stream",
          "name": "stdout",
          "text": [
            "\n",
            "Metrike za KNN sa PCA:\n",
            "Accuracy: 1.0\n",
            "Precision: 1.0\n",
            "Recall: 1.0\n",
            "F1 score: 1.0\n"
          ]
        }
      ]
    },
    {
      "cell_type": "code",
      "source": [
        "accuracy_nb_pca = accuracy_score(y_test, prediction_nb)\n",
        "precision_nb_pca = precision_score(y_test, prediction_nb, average='weighted')\n",
        "recall_nb_pca = recall_score(y_test, prediction_nb, average='weighted')\n",
        "f1_nb_pca = f1_score(y_test, prediction_nb, average='weighted')\n",
        "\n",
        "print(\"\\nMetrike za Naivnog Bajesa sa PCA:\")\n",
        "print(\"Accuracy:\", accuracy_nb_pca)\n",
        "print(\"Precision:\", precision_nb_pca)\n",
        "print(\"Recall:\", recall_nb_pca)\n",
        "print(\"F1 score:\", f1_nb_pca)"
      ],
      "metadata": {
        "colab": {
          "base_uri": "https://localhost:8080/"
        },
        "id": "E6vwVW_MdQlj",
        "outputId": "517e0dd8-73d3-4dca-9edf-68a00c55df3d"
      },
      "execution_count": null,
      "outputs": [
        {
          "output_type": "stream",
          "name": "stdout",
          "text": [
            "\n",
            "Metrike za Naivnog Bajesa sa PCA:\n",
            "Accuracy: 0.97\n",
            "Precision: 0.9704989604989605\n",
            "Recall: 0.97\n",
            "F1 score: 0.9700941176470588\n"
          ]
        }
      ]
    },
    {
      "cell_type": "markdown",
      "source": [
        "  Matrica konfuzije\n",
        "\n",
        "\n",
        "> Logistička regresija\n",
        "\n",
        "> KNN\n",
        "\n",
        "> Naivni Bajes\n",
        "\n",
        "\n",
        "\n",
        "\n"
      ],
      "metadata": {
        "id": "MbhekEyDQoGY"
      }
    },
    {
      "cell_type": "code",
      "source": [
        "def plot_confusion_matrix(y_true, y_pred, title):\n",
        "    cm = confusion_matrix(y_true, y_pred)\n",
        "    sns.heatmap(cm, annot=True, cmap=\"Blues\", fmt=\"d\")\n",
        "    plt.xlabel(\"Predicted Labels\")\n",
        "    plt.ylabel(\"True Labels\")\n",
        "    plt.title(title)\n",
        "    plt.show()"
      ],
      "metadata": {
        "id": "S49zNgD0huZI"
      },
      "execution_count": null,
      "outputs": []
    },
    {
      "cell_type": "code",
      "source": [
        "plot_confusion_matrix(y_test, prediction_logistic, \"Matrica konfuzije za Logističku regresiju sa PCA\")"
      ],
      "metadata": {
        "colab": {
          "base_uri": "https://localhost:8080/",
          "height": 472
        },
        "id": "o4Ukf5FoSaZN",
        "outputId": "11b0055a-f3a0-4d4c-95b7-c9074cfe5109"
      },
      "execution_count": null,
      "outputs": [
        {
          "output_type": "display_data",
          "data": {
            "text/plain": [
              "<Figure size 640x480 with 2 Axes>"
            ],
            "image/png": "[encoded data removed]"
          },
          "metadata": {}
        }
      ]
    },
    {
      "cell_type": "code",
      "source": [
        "plot_confusion_matrix(y_test, prediction_knn, \"Matrica konfuzije za KNN sa PCA\")"
      ],
      "metadata": {
        "colab": {
          "base_uri": "https://localhost:8080/",
          "height": 472
        },
        "id": "9jJ-qcy_SaV8",
        "outputId": "1af4fb32-2ce8-48c5-bc9d-a8cccf41999b"
      },
      "execution_count": null,
      "outputs": [
        {
          "output_type": "display_data",
          "data": {
            "text/plain": [
              "<Figure size 640x480 with 2 Axes>"
            ],
            "image/png": "[encoded data removed]"
          },
          "metadata": {}
        }
      ]
    },
    {
      "cell_type": "code",
      "source": [
        "plot_confusion_matrix(y_test, prediction_nb, \"Matrica konfuzije za Naivnog Bajesa sa PCA\")"
      ],
      "metadata": {
        "colab": {
          "base_uri": "https://localhost:8080/",
          "height": 472
        },
        "id": "qxhlIy5E4pJf",
        "outputId": "3dea739b-00d7-4705-f53e-46d4af7f41ed"
      },
      "execution_count": null,
      "outputs": [
        {
          "output_type": "display_data",
          "data": {
            "text/plain": [
              "<Figure size 640x480 with 2 Axes>"
            ],
            "image/png": "[encoded data removed]"
          },
          "metadata": {}
        }
      ]
    },
    {
      "cell_type": "markdown",
      "source": [
        "Poređenje tačnosti modela sa PCA"
      ],
      "metadata": {
        "id": "gqqKpuFsQ-O3"
      }
    },
    {
      "cell_type": "code",
      "source": [
        "accuracies_pca = [accuracy_logistic_pca, accuracy_knn_pca, accuracy_nb_pca]\n",
        "models_pca = ['Logistička regresija (PCA)', 'KNN (PCA)', 'Naivni Bajes (PCA)']\n",
        "\n",
        "\n",
        "plt.figure(figsize=(10, 6))\n",
        "plt.bar(models_pca, accuracies_pca, color=['blue', 'green', 'orange'])\n",
        "plt.title('Poređenje tačnosti modela sa PCA')\n",
        "plt.xlabel('Model (with PCA)')\n",
        "plt.ylabel('Tačnost')\n",
        "plt.ylim(0.0, 1.0)\n",
        "plt.show()\n"
      ],
      "metadata": {
        "colab": {
          "base_uri": "https://localhost:8080/",
          "height": 565
        },
        "id": "doiDYR9whuL9",
        "outputId": "4a95fd5d-cfe0-4e26-b5f8-0e7964791c2e"
      },
      "execution_count": null,
      "outputs": [
        {
          "output_type": "display_data",
          "data": {
            "text/plain": [
              "<Figure size 1000x600 with 1 Axes>"
            ],
            "image/png": "[encoded data removed]"
          },
          "metadata": {}
        }
      ]
    }
  ]
}